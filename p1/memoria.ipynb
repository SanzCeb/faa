{
 "cells": [
  {
   "cell_type": "markdown",
   "metadata": {},
   "source": [
    "En este documento, vamos a presentar los resultados de la ejecución de nuestra implementación del algoritmo Naïve-Bayes (tanto con corrección de Laplace como sin ella) siguiendo la estructura indicada en las instrucciones de la práctica. \n",
    "<h2>Apartado 1</h2> <br />\n",
    "En la figura mostrada a continuación están representadas las tuplas (error promedio, desviación típica) del algoritmo Naïve-Bayes con y sin la corrección de Laplace para los conjuntos de datos <strong>tic-tac-toe</strong>, <strong>wine</strong>, <strong>credit approval</strong> y <strong>digits</strong><br />\n",
    "<table>\n",
    "    <tr>\n",
    "        <td></td>\n",
    "        <th>tic-tac-toe</th>\n",
    "        <th>wine</th>\n",
    "        <th>credit approval</th>\n",
    "        <th>digits</th>\n",
    "    </tr>\n",
    "    <tr>\n",
    "        \n",
    "        <th>Naïve-Bayes</th>\n",
    "        <td></td>\n",
    "        <td></td>\n",
    "        <td></td>\n",
    "        <td></td>\n",
    "    </tr>\n",
    "    <tr>\n",
    "        <th>NB + Laplace</th>\n",
    "        <td></td>\n",
    "        <td></td>\n",
    "        <td></td>\n",
    "        <td></td>\n",
    "    </tr>\n",
    "        <caption style=\"text-align:center\">Tasas de error en tanto por uno</caption>\n",
    "</table> "
   ]
  },
  {
   "cell_type": "code",
   "execution_count": null,
   "metadata": {
    "collapsed": true
   },
   "outputs": [],
   "source": []
  },
  {
   "cell_type": "code",
   "execution_count": null,
   "metadata": {
    "collapsed": true
   },
   "outputs": [],
   "source": []
  }
 ],
 "metadata": {
  "kernelspec": {
   "display_name": "Python 3",
   "language": "python",
   "name": "python3"
  },
  "language_info": {
   "codemirror_mode": {
    "name": "ipython",
    "version": 3
   },
   "file_extension": ".py",
   "mimetype": "text/x-python",
   "name": "python",
   "nbconvert_exporter": "python",
   "pygments_lexer": "ipython3",
   "version": "3.5.2"
  }
 },
 "nbformat": 4,
 "nbformat_minor": 0
}
