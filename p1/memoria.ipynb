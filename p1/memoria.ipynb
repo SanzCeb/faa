{
 "cells": [
  {
   "cell_type": "markdown",
   "metadata": {},
   "source": [
    "En este documento, vamos a presentar los resultados de la ejecución de nuestra implementación del algoritmo Naïve-Bayes (tanto con corrección de Laplace como sin ella) siguiendo la estructura indicada en las instrucciones de la práctica. \n",
    "<h2>Apartado 1</h2> <br />\n",
    "En la figura mostrada a continuación están representadas las tuplas (error promedio, desviación típica) del algoritmo Naïve-Bayes con y sin la corrección de Laplace para los conjuntos de datos <strong>tic-tac-toe</strong>, <strong>wine</strong>, <strong>credit approval</strong> y <strong>digits</strong><br />\n",
    "<table>\n",
    "    <tr>\n",
    "        <td></td>\n",
    "        <th style=\"text-align:center\">tic-tac-toe</th>\n",
    "        <th style=\"text-align:center\">wine</th>\n",
    "        <th style=\"text-align:center\">credit approval</th>\n",
    "        <th style=\"text-align:center\">digits</th>\n",
    "    </tr>\n",
    "    <tr>\n",
    "        \n",
    "        <th style=\"text-align:center\">Naïve-Bayes</th>\n",
    "        <td>(0.35, 0.04)</td>\n",
    "        <td>(0.67, 0.089)</td>\n",
    "        <td>(0.44, 0.01)</td>\n",
    "        <td>(0.93, 0.01)</td>\n",
    "    </tr>\n",
    "    <tr>\n",
    "        <th>NB + Laplace</th>\n",
    "        <td>(0.35,0.02)</td>\n",
    "        <td>(0.66,0.04)</td>\n",
    "        <td>(0.44,0.02)</td>\n",
    "        <td>(0.94,0.02)</td>\n",
    "    </tr>\n",
    "        <caption style=\"text-align:center\">Tasas de error en tanto por uno</caption>\n",
    "</table> "
   ]
  },
  {
   "cell_type": "markdown",
   "metadata": {
    "collapsed": true
   },
   "source": [
    "<h2>Apartado 2</h2> <br />\n",
    "Para realizar los cálculos hemos utilizado 10 particiones con el metodo de validación cruzada. Podemos apreciar que los resultados de ambos algoritmos son idénticos. La razón por la cual está sucediendo este hecho es que estamos manejando conjuntos de datos multidimensionales en los cuales trabajamos con probabilidades muy pequeñas que, aunque no sean cero como en el algoritmo NB, se encuentran muy cerca de éste. Esto hace que sea extraño encontrarse que la decisión cambie\n"
   ]
  },
  {
   "cell_type": "markdown",
   "metadata": {
    "collapsed": true
   },
   "source": [
    "<h2>Apartado 3</h2> <br />\n",
    "En esta sección presentaremos las probabilidades a priori de las clases y dos verosimilitudes calculadas a partir del conjunto de datos <strong>tic-tac-toe.data</strong>\n",
    "\n",
    "P(Class = positive) = 0.64 <br />\n",
    "P(Class = negative) = 0.36 <br />\n",
    "P(MLeftSq  = b | Class = positive) = 0.72<br />\n",
    "P(TRightSq = x | Class = negative) = 0.29<br />\n",
    "\n",
    "Las verosimilitudes para la versión con la corrección de Laplace serían las siguientes. \n",
    "P(MLeftSq  = b | Class = positive) = 0.7<br />\n",
    "P(TRightSq = x | Class = negative) = 0.3<br />\n"
   ]
  },
  {
   "cell_type": "markdown",
   "metadata": {
    "collapsed": true
   },
   "source": [
    "<h2>Apartado 4</h2> <br />\n",
    "En esta sección presentaremos las probabilidades a priori de las clases y dos verosimilitudes calculadas a partir del conjunto de datos <strong>crx.data</strong>\n",
    "\n",
    "P(Class = positive) = 0.64 <br />\n",
    "P(Class = negative) = 0.36 <br />\n",
    "P(A7  = bb | Class = +) = 0.72<br />\n",
    "P(A4 = u | Class = -) = 0.29<br />\n",
    "\n",
    "Las media y la desviación típica resultantes son: \n",
    "<table>\n",
    "<tr>\n",
    "<td></td>\n",
    "<th>Media</th>\n",
    "<th>Desv. Típica</th>\n",
    "</tr>\n",
    "<tr>\n",
    "<th>A2</th>\n",
    "<td>193.5</td>\n",
    "<td>103.98</td>\n",
    "</tr>\n",
    "<tr>\n",
    "<th>A14</th>\n",
    "<td>67.61</td>\n",
    "<td>51.14</td>\n",
    "</tr>\n",
    "<tr>\n",
    "<th>A15</th>\n",
    "<td>137.99</td>\n",
    "<td>55.69</td>\n",
    "</tr>\n",
    "</table>\n"
   ]
  },
  {
   "cell_type": "markdown",
   "metadata": {},
   "source": [
    "Para ejecutar los algoritmos, estando dentro de la carpeta, ejecutar con ipython 3.5 el fichero practica1_test.py"
   ]
  },
  {
   "cell_type": "code",
   "execution_count": null,
   "metadata": {
    "collapsed": true
   },
   "outputs": [],
   "source": []
  }
 ],
 "metadata": {
  "kernelspec": {
   "display_name": "Python 3",
   "language": "python",
   "name": "python3"
  },
  "language_info": {
   "codemirror_mode": {
    "name": "ipython",
    "version": 3
   },
   "file_extension": ".py",
   "mimetype": "text/x-python",
   "name": "python",
   "nbconvert_exporter": "python",
   "pygments_lexer": "ipython3",
   "version": "3.5.2"
  }
 },
 "nbformat": 4,
 "nbformat_minor": 0
}
