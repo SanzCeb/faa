{
 "cells": [
  {
   "cell_type": "markdown",
   "metadata": {},
   "source": [
    "En este documento, vamos a presentar los resultados de la ejecución de nuestra implementación del algoritmo Naïve-Bayes (tanto con corrección de Laplace como sin ella) siguiendo la estructura indicada en las instrucciones de la práctica. \n",
    "<h2>Apartado 1</h2> <br />\n",
    "En la figura mostrada a continuación están representadas las tasas de error del algoritmo Naïve-Bayes con y sin la corrección de Laplace\n"
   ]
  },
  {
   "cell_type": "markdown",
   "metadata": {},
   "source": []
  }
 ],
 "metadata": {
  "kernelspec": {
   "display_name": "Python 3",
   "language": "python",
   "name": "python3"
  },
  "language_info": {
   "codemirror_mode": {
    "name": "ipython",
    "version": 3
   },
   "file_extension": ".py",
   "mimetype": "text/x-python",
   "name": "python",
   "nbconvert_exporter": "python",
   "pygments_lexer": "ipython3",
   "version": "3.5.2"
  }
 },
 "nbformat": 4,
 "nbformat_minor": 0
}
