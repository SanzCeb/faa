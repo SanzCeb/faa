{
 "cells": [
  {
   "cell_type": "code",
   "execution_count": 2,
   "metadata": {
    "collapsed": false
   },
   "outputs": [],
   "source": [
    "from Clasificador import Clasificador \n",
    "import numpy as np\n",
    "import math \n",
    "from datos import Datos\n",
    "from sklearn.neighbors import KNeighborsClassifier\n",
    "from sklearn.model_selection import cross_val_score \n",
    "from sklearn.model_selection import KFold\n",
    "import EstrategiaParticionado\n",
    "from EstrategiaParticionado import ValidacionCruzada\n",
    "\n"
   ]
  },
  {
   "cell_type": "code",
   "execution_count": 6,
   "metadata": {
    "collapsed": true
   },
   "outputs": [],
   "source": [
    "def normalizar_atributo(datos_atributo,esDiscreto,mean,std):\n",
    "    if (esDiscreto):\n",
    "        return datos_atributo\n",
    "    else:\n",
    "        return list(map(lambda x: (x - mean) / std, datos_atributo))"
   ]
  },
  {
   "cell_type": "code",
   "execution_count": 22,
   "metadata": {
    "collapsed": true
   },
   "outputs": [],
   "source": [
    "#Version que no normaliza para realizar el analisis requerido\n",
    "def normalizar_atributo(datos_atributo,esDiscreto,mean,std):\n",
    "    return datos_atributo"
   ]
  },
  {
   "cell_type": "code",
   "execution_count": 7,
   "metadata": {
    "collapsed": false
   },
   "outputs": [],
   "source": [
    "def comparativa_con_sklearn(datos):\n",
    "    estrategia = EstrategiaParticionado.ValidacionCruzada(10)\n",
    "    sklearn_cv = KFold(n_splits=10,shuffle=True)\n",
    "    for k in [1,3,5,11,21,51]:\n",
    "            knn_classifier = KNeighborsClassifier(n_neighbors=k,algorithm='ball_tree')\n",
    "            clasificador = ClasificadorKNN(k)\n",
    "            scores = cross_val_score(knn_classifier, datos.datos[:,:-1],datos.datos[:,-1], cv = sklearn_cv)\n",
    "            errores = clasificador.validacion(estrategia,datos,clasificador)\n",
    "            print (\"Tasa de acierto k = \",k,\" :\",1 - np.mean(errores))\n",
    "            print (\"Tasa de acierto k = \",k,\" version sklearn :\", np.mean(scores))\n",
    "            \n",
    "class ClasificadorKNN (Clasificador):\n",
    "    datos = np.array([])\n",
    "    means = []\n",
    "    stdevs = []\n",
    "    k = 0\n",
    "    def __init__(self,k):\n",
    "        super(ClasificadorKNN,self).__init__()\n",
    "        self.k = k\n",
    "            \n",
    "    def entrenamiento(self, datosTrain, atributosDiscretos, diccionario):\n",
    "        datos_traspuestos = datosTrain.transpose()\n",
    "        self.means = list(map(np.mean,datos_traspuestos))\n",
    "        self.stdevs = list(map(np.std,datos_traspuestos))\n",
    "        datos_normalizados = map(normalizar_atributo,\n",
    "                                 datos_traspuestos,\n",
    "                                 atributosDiscretos,\n",
    "                                 self.means,\n",
    "                                 self.stdevs)\n",
    "        self.datos = np.array(list(datos_normalizados)).transpose()\n",
    "  \n",
    "    def __clasifica_dato(self,dato, atributosDiscretos, diccionario):\n",
    "        def __dist_euclides(dato_entrenamiento):\n",
    "            def dist_eje (x,y,esDiscreto):\n",
    "                return int (x != y) if esDiscreto else pow((x - y),2)\n",
    "            return math.sqrt(sum(map(dist_eje,\n",
    "                                     dato_entrenamiento,\n",
    "                                     dato,\n",
    "                                     atributosDiscretos)))         \n",
    "        distancias = map(__dist_euclides,self.datos[:,:-1])\n",
    "        distancias_min = sorted(zip(distancias,self.datos[:,-1]),key = lambda x: x[0])[:self.k]\n",
    "        vecinos = list(map(lambda x : x[1], distancias_min))\n",
    "        dominio_clase = list(diccionario[-1].values())\n",
    "        frecuencias_clases = list(map(vecinos.count,dominio_clase))\n",
    "        return dominio_clase[frecuencias_clases.index(max(frecuencias_clases))]\n",
    "                    \n",
    "    def clasifica (self, datosTest, atributosDiscretos, diccionario):\n",
    "        datos_test_normalizados = np.array(list(map(normalizar_atributo,\n",
    "                                                    datosTest.transpose(),\n",
    "                                                    atributosDiscretos,\n",
    "                                                    self.means,\n",
    "                                                    self.stdevs))).transpose()\n",
    "        return [ self.__clasifica_dato (dato,atributosDiscretos,diccionario)\n",
    "                 for dato in datos_test_normalizados]\n",
    "\n",
    "    \n"
   ]
  },
  {
   "cell_type": "code",
   "execution_count": 8,
   "metadata": {
    "collapsed": false
   },
   "outputs": [
    {
     "name": "stdout",
     "output_type": "stream",
     "text": [
      "178\n"
     ]
    }
   ],
   "source": [
    "wine = Datos (\"../ficheros/ConjuntosDatos/wine_proc.data\", True)\n",
    "digits = Datos(\"../ficheros/ConjuntosDatos/digits.data\",True)\n",
    "example3 = Datos(\"../ficheros/ConjuntosDatos/example3.data\",True)\n",
    "example4 = Datos(\"../ficheros/ConjuntosDatos/example4.data\",True)\n",
    "wdbc = Datos(\"../ficheros/ConjuntosDatos/wdbc.data\",True)\n",
    "print(len(wine.datos))\n",
    "\n",
    "            "
   ]
  },
  {
   "cell_type": "code",
   "execution_count": 25,
   "metadata": {
    "collapsed": false
   },
   "outputs": [
    {
     "name": "stdout",
     "output_type": "stream",
     "text": [
      "Tasa de acierto k =  1  : 0.721176470588\n",
      "Tasa de acierto k =  1  version sklearn : 0.768954248366\n",
      "Tasa de acierto k =  3  : 0.703294117647\n",
      "Tasa de acierto k =  3  version sklearn : 0.707189542484\n",
      "Tasa de acierto k =  5  : 0.691529411765\n",
      "Tasa de acierto k =  5  version sklearn : 0.674836601307\n",
      "Tasa de acierto k =  11  : 0.709176470588\n",
      "Tasa de acierto k =  11  version sklearn : 0.685620915033\n",
      "Tasa de acierto k =  21  : 0.697647058824\n",
      "Tasa de acierto k =  21  version sklearn : 0.71339869281\n",
      "Tasa de acierto k =  51  : 0.715058823529\n",
      "Tasa de acierto k =  51  version sklearn : 0.709803921569\n"
     ]
    }
   ],
   "source": [
    "comparativa_con_sklearn(wine)"
   ]
  },
  {
   "cell_type": "code",
   "execution_count": 30,
   "metadata": {
    "collapsed": false
   },
   "outputs": [
    {
     "name": "stdout",
     "output_type": "stream",
     "text": [
      "Tasa de acierto k =  1  : 0.908510638298\n",
      "Tasa de acierto k =  1  version sklearn : 0.91170212766\n",
      "Tasa de acierto k =  3  : 0.88085106383\n",
      "Tasa de acierto k =  3  version sklearn : 0.889361702128\n",
      "Tasa de acierto k =  5  : 0.88829787234\n",
      "Tasa de acierto k =  5  version sklearn : 0.884042553191\n",
      "Tasa de acierto k =  11  : 0.882978723404\n",
      "Tasa de acierto k =  11  version sklearn : 0.882978723404\n",
      "Tasa de acierto k =  21  : 0.865957446809\n",
      "Tasa de acierto k =  21  version sklearn : 0.862765957447\n",
      "Tasa de acierto k =  51  : 0.829787234043\n",
      "Tasa de acierto k =  51  version sklearn : 0.820212765957\n"
     ]
    }
   ],
   "source": [
    "comparativa_con_sklearn(digits)"
   ]
  },
  {
   "cell_type": "code",
   "execution_count": 9,
   "metadata": {
    "collapsed": false
   },
   "outputs": [
    {
     "name": "stdout",
     "output_type": "stream",
     "text": [
      "Tasa de acierto k =  1  : 0.9825\n",
      "Tasa de acierto k =  1  version sklearn : 0.9775\n",
      "Tasa de acierto k =  3  : 0.965\n",
      "Tasa de acierto k =  3  version sklearn : 0.9675\n",
      "Tasa de acierto k =  5  : 0.975\n",
      "Tasa de acierto k =  5  version sklearn : 0.9725\n",
      "Tasa de acierto k =  11  : 0.9775\n",
      "Tasa de acierto k =  11  version sklearn : 0.9725\n",
      "Tasa de acierto k =  21  : 0.9625\n",
      "Tasa de acierto k =  21  version sklearn : 0.9625\n",
      "Tasa de acierto k =  51  : 0.9775\n",
      "Tasa de acierto k =  51  version sklearn : 0.965\n"
     ]
    }
   ],
   "source": [
    "comparativa_con_sklearn(example3)"
   ]
  },
  {
   "cell_type": "code",
   "execution_count": 28,
   "metadata": {
    "collapsed": false
   },
   "outputs": [
    {
     "name": "stdout",
     "output_type": "stream",
     "text": [
      "Tasa de acierto k =  1  : 0.95\n",
      "Tasa de acierto k =  1  version sklearn : 0.97\n",
      "Tasa de acierto k =  3  : 0.9\n",
      "Tasa de acierto k =  3  version sklearn : 0.89\n",
      "Tasa de acierto k =  5  : 0.88\n",
      "Tasa de acierto k =  5  version sklearn : 0.88\n",
      "Tasa de acierto k =  11  : 0.79\n",
      "Tasa de acierto k =  11  version sklearn : 0.8\n",
      "Tasa de acierto k =  21  : 0.68\n",
      "Tasa de acierto k =  21  version sklearn : 0.65\n",
      "Tasa de acierto k =  51  : 0.39\n",
      "Tasa de acierto k =  51  version sklearn : 0.44\n"
     ]
    }
   ],
   "source": [
    "comparativa_con_sklearn(example4)"
   ]
  },
  {
   "cell_type": "code",
   "execution_count": 29,
   "metadata": {
    "collapsed": false
   },
   "outputs": [
    {
     "name": "stdout",
     "output_type": "stream",
     "text": [
      "Tasa de acierto k =  1  : 0.924945054945\n",
      "Tasa de acierto k =  1  version sklearn : 0.920895989975\n",
      "Tasa de acierto k =  3  : 0.931840659341\n",
      "Tasa de acierto k =  3  version sklearn : 0.926221804511\n",
      "Tasa de acierto k =  5  : 0.931346153846\n",
      "Tasa de acierto k =  5  version sklearn : 0.935056390977\n",
      "Tasa de acierto k =  11  : 0.933626373626\n",
      "Tasa de acierto k =  11  version sklearn : 0.935025062657\n",
      "Tasa de acierto k =  21  : 0.928021978022\n",
      "Tasa de acierto k =  21  version sklearn : 0.929636591479\n",
      "Tasa de acierto k =  51  : 0.913736263736\n",
      "Tasa de acierto k =  51  version sklearn : 0.917481203008\n"
     ]
    }
   ],
   "source": [
    "comparativa_con_sklearn(wdbc)"
   ]
  }
 ],
 "metadata": {
  "anaconda-cloud": {},
  "kernelspec": {
   "display_name": "Python 3",
   "language": "python",
   "name": "python3"
  },
  "language_info": {
   "codemirror_mode": {
    "name": "ipython",
    "version": 3
   },
   "file_extension": ".py",
   "mimetype": "text/x-python",
   "name": "python",
   "nbconvert_exporter": "python",
   "pygments_lexer": "ipython3",
   "version": "3.5.2"
  }
 },
 "nbformat": 4,
 "nbformat_minor": 0
}
