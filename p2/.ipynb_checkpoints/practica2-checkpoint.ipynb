{
 "cells": [
  {
   "cell_type": "code",
   "execution_count": 1,
   "metadata": {
    "collapsed": true
   },
   "outputs": [],
   "source": [
    "import numpy as np \n",
    "from sklearn.naive_bayes import MultinomialNB\n",
    "from datos import Datos\n",
    "import EstrategiaParticionado\n",
    "\n",
    "estrategia = EstrategiaParticionado.ValidacionCruzada(10)\n",
    "clasificador_sklearn = MultinomialNB()\n"
   ]
  },
  {
   "cell_type": "code",
   "execution_count": 2,
   "metadata": {
    "collapsed": true
   },
   "outputs": [],
   "source": [
    "tic_tac_toe = Datos (\"../ficheros/ConjuntosDatos/tic-tac-toe.data\", True)\n",
    "particiones = estrategia.creaParticiones(tic_tac_toe)"
   ]
  },
  {
   "cell_type": "code",
   "execution_count": 4,
   "metadata": {
    "collapsed": false
   },
   "outputs": [
    {
     "name": "stdout",
     "output_type": "stream",
     "text": [
      "[[0 0 0 ..., 1 1 0]\n",
      " [0 0 0 ..., 0 1 0]\n",
      " [0 0 0 ..., 1 0 0]\n",
      " ..., \n",
      " [1 0 1 ..., 1 0 1]\n",
      " [1 0 1 ..., 1 0 1]\n",
      " [1 0 1 ..., 1 0 1]]\n",
      "[[0 0 0 ..., 1 1 0]\n",
      " [0 0 0 ..., 0 1 0]\n",
      " [0 0 0 ..., 1 0 0]\n",
      " ..., \n",
      " [1 0 1 ..., 1 0 1]\n",
      " [1 0 1 ..., 1 0 1]\n",
      " [1 0 1 ..., 1 0 1]]\n"
     ]
    }
   ],
   "source": [
    "datos_train = tic_tac_toe.extraeDatosTrain(particiones[0])\n",
    "datos_test = tic_tac_toe.extraeDatosTest(particiones[0])\n",
    "print(datos_train[:-1])\n",
    "print(datos_train[:-1])"
   ]
  }
 ],
 "metadata": {
  "kernelspec": {
   "display_name": "Python 3",
   "language": "python",
   "name": "python3"
  },
  "language_info": {
   "codemirror_mode": {
    "name": "ipython",
    "version": 3
   },
   "file_extension": ".py",
   "mimetype": "text/x-python",
   "name": "python",
   "nbconvert_exporter": "python",
   "pygments_lexer": "ipython3",
   "version": "3.5.2"
  }
 },
 "nbformat": 4,
 "nbformat_minor": 0
}
