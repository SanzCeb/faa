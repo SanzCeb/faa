{
 "cells": [
  {
   "cell_type": "code",
   "execution_count": 1,
   "metadata": {
    "collapsed": true
   },
   "outputs": [],
   "source": [
    "import numpy as np \n",
    "from sklearn.naive_bayes import MultinomialNB\n",
    "from datos import Datos\n",
    "import EstrategiaParticionado\n",
    "\n",
    "estrategia = EstrategiaParticionado.ValidacionCruzada(10)\n",
    "clasificador_sklearn = MultinomialNB()\n",
    "\n"
   ]
  },
  {
   "cell_type": "code",
   "execution_count": 2,
   "metadata": {
    "collapsed": true
   },
   "outputs": [],
   "source": [
    "tic_tac_toe = Datos (\"../ficheros/ConjuntosDatos/tic-tac-toe.data\", True)\n",
    "particiones = estrategia.creaParticiones(tic_tac_toe)"
   ]
  },
  {
   "cell_type": "code",
   "execution_count": 5,
   "metadata": {
    "collapsed": false
   },
   "outputs": [
    {
     "name": "stdout",
     "output_type": "stream",
     "text": [
      "[[0 0 0 ..., 1 1 0]\n",
      " [0 0 0 ..., 0 1 0]\n",
      " [0 0 0 ..., 1 0 0]\n",
      " ..., \n",
      " [1 0 1 ..., 1 0 1]\n",
      " [1 0 1 ..., 1 0 1]\n",
      " [1 0 1 ..., 1 0 1]]\n",
      "[1 1 0 0 0 1 1 0 0 1]\n"
     ]
    }
   ],
   "source": [
    "datos_train = tic_tac_toe.extraeDatosTrain(particiones[0])\n",
    "datos_test = tic_tac_toe.extraeDatosTest(particiones[0])\n",
    "print(datos_train[:-1])\n",
    "print(datos_train[-1])"
   ]
  },
  {
   "cell_type": "code",
   "execution_count": 21,
   "metadata": {
    "collapsed": false
   },
   "outputs": [],
   "source": [
    "X_train = datos_train.transpose()[:-1].transpose()\n",
    "y_train = datos_train.transpose()[-1]\n",
    "X_test  = datos_test.transpose()[:-1].transpose()\n",
    "y_test = datos_test.transpose()[-1]"
   ]
  },
  {
   "cell_type": "code",
   "execution_count": 22,
   "metadata": {
    "collapsed": false
   },
   "outputs": [
    {
     "name": "stdout",
     "output_type": "stream",
     "text": [
      "X_train shape: (863, 9)\n",
      "y_train shape: (863,)\n",
      "X_test  shape: (95, 9)\n",
      "y_test  shape: (95,)\n"
     ]
    }
   ],
   "source": [
    "print (\"X_train shape: {}\".format(X_train.shape))\n",
    "print (\"y_train shape: {}\".format(y_train.shape))\n",
    "print (\"X_test  shape: {}\".format(X_test.shape))\n",
    "print (\"y_test  shape: {}\".format(y_test.shape))"
   ]
  },
  {
   "cell_type": "code",
   "execution_count": 18,
   "metadata": {
    "collapsed": false
   },
   "outputs": [
    {
     "data": {
      "text/plain": [
       "MultinomialNB(alpha=1.0, class_prior=None, fit_prior=True)"
      ]
     },
     "execution_count": 18,
     "metadata": {},
     "output_type": "execute_result"
    }
   ],
   "source": [
    "clasificador_sklearn.fit(X_train,y_train)\n",
    "\n"
   ]
  },
  {
   "cell_type": "code",
   "execution_count": 24,
   "metadata": {
    "collapsed": false
   },
   "outputs": [
    {
     "name": "stdout",
     "output_type": "stream",
     "text": [
      "0.631578947368\n"
     ]
    }
   ],
   "source": [
    "print(clasificador_sklearn.score(X_test,y_test))"
   ]
  }
 ],
 "metadata": {
  "anaconda-cloud": {},
  "kernelspec": {
   "display_name": "Python 3",
   "language": "python",
   "name": "python3"
  },
  "language_info": {
   "codemirror_mode": {
    "name": "ipython",
    "version": 3
   },
   "file_extension": ".py",
   "mimetype": "text/x-python",
   "name": "python",
   "nbconvert_exporter": "python",
   "pygments_lexer": "ipython3",
   "version": "3.5.2"
  }
 },
 "nbformat": 4,
 "nbformat_minor": 0
}
