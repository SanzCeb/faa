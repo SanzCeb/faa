{
 "cells": [
  {
   "cell_type": "code",
   "execution_count": null,
   "metadata": {
    "collapsed": true
   },
   "outputs": [],
   "source": [
    "from ClasificadorRegresionLogistica import ClasificadorRegresionLogistica\n",
    "from datos import Datos \n"
   ]
  },
  {
   "cell_type": "markdown",
   "metadata": {},
   "source": [
    "<h2>Apartado 1</h2><br/>\n",
    "<p> Resultados de Naive-Bayes obtenidos por scikit-learn en los conjuntos de datos de la práctica 1 y análisis comparativo con los resultados obtenidos por la propia implementación en python.\n",
    "</p>\n"
   ]
  },
  {
   "cell_type": "markdown",
   "metadata": {},
   "source": [
    "<p>\n",
    "En primer lugar, vamos a mostrar los resultados obtenidos por la implementación de NB extraídos de la práctica anterior y los recopilados por scikit-learn para los conjuntos de datos <strong>tic-tac-toe</strong>, <strong>wine</strong>, <strong>credit approval</strong> y <strong>digits</strong><br />. \n",
    "</p>\n",
    "<table>\n",
    "    <tr>\n",
    "        <td></td>\n",
    "        <th style=\"text-align:center\">tic-tac-toe</th>\n",
    "        <th style=\"text-align:center\">wine</th>\n",
    "        <th style=\"text-align:center\">credit approval</th>\n",
    "        <th style=\"text-align:center\">digits</th>\n",
    "    </tr>\n",
    "    <tr>\n",
    "        \n",
    "        <th style=\"text-align:center\">Naïve-Bayes</th>\n",
    "        <td>(0.35, 0.04)</td>\n",
    "        <td>(0.67, 0.089)</td>\n",
    "        <td>(0.44, 0.01)</td>\n",
    "        <td>(0.93, 0.01)</td>\n",
    "    </tr>\n",
    "    <tr>\n",
    "        <th>NB + Laplace</th>\n",
    "        <td>(0.35,0.02)</td>\n",
    "        <td>(0.66,0.04)</td>\n",
    "        <td>(0.44,0.02)</td>\n",
    "        <td>(0.94,0.02)</td>\n",
    "    </tr>\n",
    "    <tr>\n",
    "        <th>GaussianNB</th>\n",
    "        <td>0.26</td>\n",
    "        <td>0.67</td>\n",
    "        <td>0.15</td>\n",
    "        <td>0.8</td>\n",
    "    </tr>\n",
    "    <caption style=\"text-align:center\">Implementación propia en tanto por uno</caption>\n",
    "</table>\n",
    "<br />\n",
    "<table>\n",
    "</table>"
   ]
  },
  {
   "cell_type": "markdown",
   "metadata": {},
   "source": [
    "<h2>Apartado 2</h2>\n",
    "<p>\n",
    "Resultados de la clasificación mediante vecinos próximos (implementación original) para diferentes valores de vecindad en los conjuntos de datos propuestos. Comparación con los resultados proporcionados por scikit-learn. Obtener los resultados tanto para datos normalizados como sin normalizar.\n",
    "</p>"
   ]
  },
  {
   "cell_type": "markdown",
   "metadata": {},
   "source": [
    "<p>Es importante realizar un análisis de los resultados del algoritmo de vecinos próximos en los conjuntos de datos example3.data y example4.data, tratando de justificar el rendimiento del algoritmo en base a las características de los datos (normalizados y sin normalizar), que deben ser representados utilizando la función descrita en el apartado 4.</p>"
   ]
  },
  {
   "cell_type": "markdown",
   "metadata": {},
   "source": [
    "<h2>Apartado 3</h2>\n",
    "<p>\n",
    "Resultados de la clasificación mediante regresión logística en el conjunto de datos propuesto. Comparación con los resultados proporcionados por scikit-learn.\n",
    "</p>"
   ]
  },
  {
   "cell_type": "markdown",
   "metadata": {},
   "source": [
    "<p>\n",
    "Es importante realizar un análisis de los resultados del algoritmo de regresión logística en los conjuntos de datos example3.data y example4.data, tratando de justificar el rendimiento del algoritmo en base a las características de los datos, que deben ser representados utilizando la función descrita en el apartado 4.\n",
    "</p>"
   ]
  }
 ],
 "metadata": {
  "anaconda-cloud": {},
  "kernelspec": {
   "display_name": "Python [default]",
   "language": "python",
   "name": "python3"
  },
  "language_info": {
   "codemirror_mode": {
    "name": "ipython",
    "version": 3
   },
   "file_extension": ".py",
   "mimetype": "text/x-python",
   "name": "python",
   "nbconvert_exporter": "python",
   "pygments_lexer": "ipython3",
   "version": "3.5.2"
  }
 },
 "nbformat": 4,
 "nbformat_minor": 1
}
