{
 "cells": [
  {
   "cell_type": "code",
   "execution_count": 1,
   "metadata": {
    "collapsed": false
   },
   "outputs": [],
   "source": [
    "from Clasificador import Clasificador \n",
    "import numpy as np\n",
    "import math \n",
    "from datos import Datos\n",
    "from sklearn.neighbors import KNeighborsClassifier\n",
    "from sklearn.model_selection import cross_val_score \n",
    "from sklearn.model_selection import KFold\n",
    "import EstrategiaParticionado\n",
    "\n"
   ]
  },
  {
   "cell_type": "code",
   "execution_count": 14,
   "metadata": {
    "collapsed": true
   },
   "outputs": [],
   "source": [
    "\n",
    "def __normalizar_atributo(datos_atributo,esDiscreto):\n",
    "    if (esDiscreto):\n",
    "        return datos_atributo\n",
    "    else:\n",
    "        mean = np.mean(datos_atributo)\n",
    "        std = np.std(datos_atributo)\n",
    "        return list(map(lambda x: (x - mean) / std, datos_atributo))"
   ]
  },
  {
   "cell_type": "code",
   "execution_count": 15,
   "metadata": {
    "collapsed": false
   },
   "outputs": [
    {
     "name": "stdout",
     "output_type": "stream",
     "text": [
      "[-0.88235294117647078, -0.88235294117647078, -0.14705882352941191, 0.58823529411764697, 1.3235294117647058]\n"
     ]
    }
   ],
   "source": [
    "print(__normalizar_atributo([1,1,2,3,4],False))"
   ]
  },
  {
   "cell_type": "code",
   "execution_count": 6,
   "metadata": {
    "collapsed": false
   },
   "outputs": [],
   "source": [
    "def normalizar_atributo(datos_atributo,esDiscreto):\n",
    "    if (esDiscreto):\n",
    "        return datos_atributo\n",
    "    else:\n",
    "        mean = np.mean(datos_atributo)\n",
    "        std = np.std(datos_atributo)\n",
    "        return list(map(lambda x: (x - mean) / std, datos_atributo))\n",
    "def comparativa_con_sklearn(datos):\n",
    "    estrategia = EstrategiaParticionado.ValidacionCruzada(5)\n",
    "    sklearn_cv = KFold(n_splits=10,shuffle=True)\n",
    "    for k in [1,3,5,11,21,51]:\n",
    "            knn_classifier = KNeighborsClassifier(n_neighbors=k)\n",
    "            clasificador = ClasificadorKNN(k)\n",
    "            scores = cross_val_score(knn_classifier, datos[:,:-1],datos[:,-1], cv = sklearn_cv)\n",
    "            errores = clasificador.validacion(estrategia,tic_tac_toe,clasificador)\n",
    "            print (\"Tasa de acierto k = \",k,\" :\",1 - np.mean(errores))\n",
    "            print (\"Tasa de acierto k = \",k,\" version sklearn :\", np.mean(scores))\n",
    "            \n",
    "class ClasificadorKNN (Clasificador):\n",
    "    datos = np.array([])\n",
    "    k = 0\n",
    "    def __init__(self,k):\n",
    "        super(ClasificadorKNN,self).__init__()\n",
    "        self.k = k\n",
    "            \n",
    "    def entrenamiento(self, datosTrain, atributosDiscretos, diccionario):\n",
    "        datos_traspuestos = datosTrain.transpose()\n",
    "        datos_normalizados = map(normalizar_atributo,\n",
    "                                 datos_traspuestos,\n",
    "                                 atributosDiscretos)\n",
    "        self.datos = np.array(list(datos_normalizados)).transpose()\n",
    "  \n",
    "    def __clasifica_dato(self,dato, atributosDiscretos, diccionario):\n",
    "        def __dist_euclides(dato_entrenamiento):\n",
    "            def dist_eje (x,y,esDiscreto):\n",
    "                return int (x != y) if esDiscreto else (x - y) ** 2\n",
    "            return math.sqrt(sum(map(dist_eje,\n",
    "                                     dato_entrenamiento,\n",
    "                                     dato,\n",
    "                                     atributosDiscretos)))         \n",
    "        distancias = map(__dist_euclides,self.datos)\n",
    "        distancias_min = sorted(zip(distancias,self.datos[:,-1]),key = lambda x: x[0])[:self.k]\n",
    "        vecinos = list(map(lambda x : x[1], distancias_min))\n",
    "        frecuencias_clases = list(map(vecinos.count,diccionario[-1].values()))\n",
    "        return frecuencias_clases.index(max(frecuencias_clases))\n",
    "                    \n",
    "    def clasifica (self, datosTest, atributosDiscretos, diccionario):\n",
    "        return [ self.__clasifica_dato (dato,atributosDiscretos,diccionario)\n",
    "                 for dato in datosTest ]\n",
    "\n",
    "    \n"
   ]
  },
  {
   "cell_type": "code",
   "execution_count": 7,
   "metadata": {
    "collapsed": false
   },
   "outputs": [
    {
     "name": "stdout",
     "output_type": "stream",
     "text": [
      "{'negative': 0, 'positive': 1}\n",
      "dict_values([0, 1, 2])\n",
      "863\n",
      "95\n"
     ]
    }
   ],
   "source": [
    "estrategia = EstrategiaParticionado.ValidacionCruzada(10)\n",
    "wine = Datos (\"../ficheros/ConjuntosDatos/wine_proc.data\", True)\n",
    "tic_tac_toe = Datos(\"../ficheros/ConjuntosDatos/tic-tac-toe.data\",True)\n",
    "print(tic_tac_toe.diccionarios[-1])\n",
    "print(wine.diccionarios[-1].values())\n",
    "print(len(estrategia.creaParticiones(tic_tac_toe)[0].indicesTrain))\n",
    "print(len(estrategia.creaParticiones(tic_tac_toe)[0].indicesTest))"
   ]
  },
  {
   "cell_type": "code",
   "execution_count": 12,
   "metadata": {
    "collapsed": false
   },
   "outputs": [
    {
     "name": "stdout",
     "output_type": "stream",
     "text": [
      "Tasa de acierto k =  1  : 1.0\n",
      "Tasa de acierto k =  1  version sklearn : 0.894404450262\n",
      "Tasa de acierto k =  3  : 1.0\n",
      "Tasa de acierto k =  3  version sklearn : 0.855731893543\n",
      "Tasa de acierto k =  5  : 1.0\n",
      "Tasa de acierto k =  5  version sklearn : 0.773134816754\n",
      "Tasa de acierto k =  11  : 0.997905759162\n",
      "Tasa de acierto k =  11  version sklearn : 0.590346858639\n",
      "Tasa de acierto k =  21  : 0.996874831327\n",
      "Tasa de acierto k =  21  version sklearn : 0.709260471204\n",
      "Tasa de acierto k =  51  : 0.899865061802\n",
      "Tasa de acierto k =  51  version sklearn : 0.557646160558\n"
     ]
    }
   ],
   "source": [
    "comparativa_con_sklearn(tic_tac_toe.datos)\n"
   ]
  },
  {
   "cell_type": "code",
   "execution_count": 8,
   "metadata": {
    "collapsed": false
   },
   "outputs": [
    {
     "ename": "TypeError",
     "evalue": "map() must have at least two arguments.",
     "output_type": "error",
     "traceback": [
      "\u001b[0;31m---------------------------------------------------------------------------\u001b[0m",
      "\u001b[0;31mTypeError\u001b[0m                                 Traceback (most recent call last)",
      "\u001b[0;32m<ipython-input-8-3594f6563501>\u001b[0m in \u001b[0;36m<module>\u001b[0;34m()\u001b[0m\n\u001b[0;32m----> 1\u001b[0;31m \u001b[0mcomparativa_con_sklearn\u001b[0m\u001b[0;34m(\u001b[0m\u001b[0mwine\u001b[0m\u001b[0;34m.\u001b[0m\u001b[0mdatos\u001b[0m\u001b[0;34m)\u001b[0m\u001b[0;34m\u001b[0m\u001b[0m\n\u001b[0m",
      "\u001b[0;32m<ipython-input-6-92b6ba68cfcf>\u001b[0m in \u001b[0;36mcomparativa_con_sklearn\u001b[0;34m(datos)\u001b[0m\n\u001b[1;32m     13\u001b[0m             \u001b[0mclasificador\u001b[0m \u001b[0;34m=\u001b[0m \u001b[0mClasificadorKNN\u001b[0m\u001b[0;34m(\u001b[0m\u001b[0mk\u001b[0m\u001b[0;34m)\u001b[0m\u001b[0;34m\u001b[0m\u001b[0m\n\u001b[1;32m     14\u001b[0m             \u001b[0mscores\u001b[0m \u001b[0;34m=\u001b[0m \u001b[0mcross_val_score\u001b[0m\u001b[0;34m(\u001b[0m\u001b[0mknn_classifier\u001b[0m\u001b[0;34m,\u001b[0m \u001b[0mdatos\u001b[0m\u001b[0;34m[\u001b[0m\u001b[0;34m:\u001b[0m\u001b[0;34m,\u001b[0m\u001b[0;34m:\u001b[0m\u001b[0;34m-\u001b[0m\u001b[0;36m1\u001b[0m\u001b[0;34m]\u001b[0m\u001b[0;34m,\u001b[0m\u001b[0mdatos\u001b[0m\u001b[0;34m[\u001b[0m\u001b[0;34m:\u001b[0m\u001b[0;34m,\u001b[0m\u001b[0;34m-\u001b[0m\u001b[0;36m1\u001b[0m\u001b[0;34m]\u001b[0m\u001b[0;34m,\u001b[0m \u001b[0mcv\u001b[0m \u001b[0;34m=\u001b[0m \u001b[0msklearn_cv\u001b[0m\u001b[0;34m)\u001b[0m\u001b[0;34m\u001b[0m\u001b[0m\n\u001b[0;32m---> 15\u001b[0;31m             \u001b[0merrores\u001b[0m \u001b[0;34m=\u001b[0m \u001b[0mclasificador\u001b[0m\u001b[0;34m.\u001b[0m\u001b[0mvalidacion\u001b[0m\u001b[0;34m(\u001b[0m\u001b[0mestrategia\u001b[0m\u001b[0;34m,\u001b[0m\u001b[0mtic_tac_toe\u001b[0m\u001b[0;34m,\u001b[0m\u001b[0mclasificador\u001b[0m\u001b[0;34m)\u001b[0m\u001b[0;34m\u001b[0m\u001b[0m\n\u001b[0m\u001b[1;32m     16\u001b[0m             \u001b[0mprint\u001b[0m \u001b[0;34m(\u001b[0m\u001b[0;34m\"Tasa de acierto k = \"\u001b[0m\u001b[0;34m,\u001b[0m\u001b[0mk\u001b[0m\u001b[0;34m,\u001b[0m\u001b[0;34m\" :\"\u001b[0m\u001b[0;34m,\u001b[0m\u001b[0;36m1\u001b[0m \u001b[0;34m-\u001b[0m \u001b[0mnp\u001b[0m\u001b[0;34m.\u001b[0m\u001b[0mmean\u001b[0m\u001b[0;34m(\u001b[0m\u001b[0merrores\u001b[0m\u001b[0;34m)\u001b[0m\u001b[0;34m)\u001b[0m\u001b[0;34m\u001b[0m\u001b[0m\n\u001b[1;32m     17\u001b[0m             \u001b[0mprint\u001b[0m \u001b[0;34m(\u001b[0m\u001b[0;34m\"Tasa de acierto k = \"\u001b[0m\u001b[0;34m,\u001b[0m\u001b[0mk\u001b[0m\u001b[0;34m,\u001b[0m\u001b[0;34m\" version sklearn :\"\u001b[0m\u001b[0;34m,\u001b[0m \u001b[0mnp\u001b[0m\u001b[0;34m.\u001b[0m\u001b[0mmean\u001b[0m\u001b[0;34m(\u001b[0m\u001b[0mscores\u001b[0m\u001b[0;34m)\u001b[0m\u001b[0;34m)\u001b[0m\u001b[0;34m\u001b[0m\u001b[0m\n",
      "\u001b[0;32m/home/snzceb/Documents/code/python/faa/p2/Clasificador.py\u001b[0m in \u001b[0;36mvalidacion\u001b[0;34m(self, particionado, dataset, clasificador, seed)\u001b[0m\n\u001b[1;32m     52\u001b[0m \u001b[0;34m\u001b[0m\u001b[0m\n\u001b[1;32m     53\u001b[0m     \u001b[0mparticiones\u001b[0m \u001b[0;34m=\u001b[0m \u001b[0mparticionado\u001b[0m\u001b[0;34m.\u001b[0m\u001b[0mcreaParticiones\u001b[0m\u001b[0;34m(\u001b[0m\u001b[0mdataset\u001b[0m\u001b[0;34m)\u001b[0m\u001b[0;34m\u001b[0m\u001b[0m\n\u001b[0;32m---> 54\u001b[0;31m     \u001b[0;32mreturn\u001b[0m \u001b[0mlist\u001b[0m\u001b[0;34m(\u001b[0m\u001b[0mmap\u001b[0m\u001b[0;34m(\u001b[0m\u001b[0m__calculaError\u001b[0m\u001b[0;34m,\u001b[0m \u001b[0mparticiones\u001b[0m\u001b[0;34m)\u001b[0m\u001b[0;34m)\u001b[0m\u001b[0;34m\u001b[0m\u001b[0m\n\u001b[0m\u001b[1;32m     55\u001b[0m \u001b[0;34m\u001b[0m\u001b[0m\n",
      "\u001b[0;32m/home/snzceb/Documents/code/python/faa/p2/Clasificador.py\u001b[0m in \u001b[0;36m__calculaError\u001b[0;34m(particion)\u001b[0m\n\u001b[1;32m     44\u001b[0m       clasificador.entrenamiento( datos_train,\n\u001b[1;32m     45\u001b[0m                                   \u001b[0mdataset\u001b[0m\u001b[0;34m.\u001b[0m\u001b[0mnominalAtributos\u001b[0m\u001b[0;34m,\u001b[0m\u001b[0;34m\u001b[0m\u001b[0m\n\u001b[0;32m---> 46\u001b[0;31m                                   dataset.diccionarios )\n\u001b[0m\u001b[1;32m     47\u001b[0m       \u001b[0mdatos_test\u001b[0m \u001b[0;34m=\u001b[0m \u001b[0mdataset\u001b[0m\u001b[0;34m.\u001b[0m\u001b[0mextraeDatosTest\u001b[0m \u001b[0;34m(\u001b[0m \u001b[0mparticion\u001b[0m \u001b[0;34m)\u001b[0m\u001b[0;34m\u001b[0m\u001b[0m\n\u001b[1;32m     48\u001b[0m       prediccion = clasificador.clasifica ( datos_test,\n",
      "\u001b[0;32m<ipython-input-6-92b6ba68cfcf>\u001b[0m in \u001b[0;36mentrenamiento\u001b[0;34m(self, datosTrain, atributosDiscretos, diccionario)\u001b[0m\n\u001b[1;32m     32\u001b[0m         \u001b[0mself\u001b[0m\u001b[0;34m.\u001b[0m\u001b[0mmeans\u001b[0m \u001b[0;34m=\u001b[0m \u001b[0mmap\u001b[0m\u001b[0;34m(\u001b[0m\u001b[0mnp\u001b[0m\u001b[0;34m.\u001b[0m\u001b[0mmean\u001b[0m\u001b[0;34m,\u001b[0m\u001b[0mdatos_traspuestos\u001b[0m\u001b[0;34m)\u001b[0m\u001b[0;34m\u001b[0m\u001b[0m\n\u001b[1;32m     33\u001b[0m         \u001b[0mself\u001b[0m\u001b[0;34m.\u001b[0m\u001b[0mstds\u001b[0m \u001b[0;34m=\u001b[0m \u001b[0mmap\u001b[0m\u001b[0;34m(\u001b[0m\u001b[0mnp\u001b[0m\u001b[0;34m.\u001b[0m\u001b[0mstd\u001b[0m\u001b[0;34m,\u001b[0m\u001b[0mdatos_traspuestos\u001b[0m\u001b[0;34m)\u001b[0m\u001b[0;34m\u001b[0m\u001b[0m\n\u001b[0;32m---> 34\u001b[0;31m         \u001b[0mdatos_normalizados\u001b[0m \u001b[0;34m=\u001b[0m \u001b[0mmap\u001b[0m\u001b[0;34m(\u001b[0m\u001b[0mnormalizar_atributo\u001b[0m\u001b[0;34m,\u001b[0m\u001b[0;34m)\u001b[0m\u001b[0;34m\u001b[0m\u001b[0m\n\u001b[0m\u001b[1;32m     35\u001b[0m \u001b[0;34m\u001b[0m\u001b[0m\n\u001b[1;32m     36\u001b[0m     \u001b[0;32mdef\u001b[0m \u001b[0m__clasifica_dato\u001b[0m\u001b[0;34m(\u001b[0m\u001b[0mself\u001b[0m\u001b[0;34m,\u001b[0m\u001b[0mdato\u001b[0m\u001b[0;34m,\u001b[0m \u001b[0matributosDiscretos\u001b[0m\u001b[0;34m,\u001b[0m \u001b[0mdiccionario\u001b[0m\u001b[0;34m)\u001b[0m\u001b[0;34m:\u001b[0m\u001b[0;34m\u001b[0m\u001b[0m\n",
      "\u001b[0;31mTypeError\u001b[0m: map() must have at least two arguments."
     ]
    }
   ],
   "source": [
    "comparativa_con_sklearn(wine.datos)"
   ]
  }
 ],
 "metadata": {
  "kernelspec": {
   "display_name": "Python 3",
   "language": "python",
   "name": "python3"
  },
  "language_info": {
   "codemirror_mode": {
    "name": "ipython",
    "version": 3
   },
   "file_extension": ".py",
   "mimetype": "text/x-python",
   "name": "python",
   "nbconvert_exporter": "python",
   "pygments_lexer": "ipython3",
   "version": "3.5.2"
  }
 },
 "nbformat": 4,
 "nbformat_minor": 0
}
