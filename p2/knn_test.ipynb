{
 "cells": [
  {
   "cell_type": "code",
   "execution_count": 19,
   "metadata": {
    "collapsed": true
   },
   "outputs": [],
   "source": [
    "from Clasificador import Clasificador \n",
    "import numpy as np\n",
    "import math \n",
    "from datos import Datos\n",
    "import EstrategiaParticionado\n"
   ]
  },
  {
   "cell_type": "code",
   "execution_count": 24,
   "metadata": {
    "collapsed": true
   },
   "outputs": [],
   "source": [
    "\n",
    "def __normalizar_atributo(datos_atributo,esDiscreto):\n",
    "    if (esDiscreto):\n",
    "        return datos_atributo\n",
    "    else:\n",
    "        mean = np.mean(datos_atributo)\n",
    "        var = np.var(datos_atributo)\n",
    "        return list(map(lambda x: (x - mean) / var, datos_atributo))"
   ]
  },
  {
   "cell_type": "code",
   "execution_count": 13,
   "metadata": {
    "collapsed": false
   },
   "outputs": [
    {
     "name": "stdout",
     "output_type": "stream",
     "text": [
      "[-0.88235294117647078, -0.88235294117647078, -0.14705882352941191, 0.58823529411764697, 1.3235294117647058]\n"
     ]
    }
   ],
   "source": [
    "print(__normalizar_atributo([1,1,2,3,4],False))"
   ]
  },
  {
   "cell_type": "code",
   "execution_count": 39,
   "metadata": {
    "collapsed": false
   },
   "outputs": [],
   "source": [
    "def normalizar_atributo(datos_atributo,esDiscreto):\n",
    "    if (esDiscreto):\n",
    "        return datos_atributo\n",
    "    else:\n",
    "        mean = np.mean(datos_atributo)\n",
    "        var = np.var(datos_atributo)\n",
    "        return list(map(lambda x: (x - mean) / var, datos_atributo))\n",
    "class ClasificadorKNN (Clasificador):\n",
    "    datos = np.array([])\n",
    "    k = 0\n",
    "    def __init__(self,k):\n",
    "        super(ClasificadorKNN,self).__init__()\n",
    "        self.k = k\n",
    "            \n",
    "    def entrenamiento(self, datosTrain, atributosDiscretos, diccionario):\n",
    "        datos_traspuestos = datosTrain.transpose()\n",
    "        datos_normalizados = map(normalizar_atributo,\n",
    "                                 datos_traspuestos,\n",
    "                                 atributosDiscretos)\n",
    "        self.datos = np.array(list(datos_normalizados)).transpose()\n",
    "\n",
    "    def __clasifica_dato(self,dato, atributosDiscretos, diccionario):\n",
    "        def __dist_euclides(dato_entrenamiento):\n",
    "            def dist_eje (x,y,esDiscreto):\n",
    "                return int(x == y) if esDiscreto else (x - y) ** 2\n",
    "            return math.sqrt(sum(map(dist_eje,\n",
    "                                     dato_entrenamiento,\n",
    "                                     dato,\n",
    "                                     atributosDiscretos)))\n",
    "                \n",
    "        distancias = map(__dist_euclides,self.datos)\n",
    "        distancias_min = sorted(distancias)[:self.k]\n",
    "        frecuencias_clases = list(map(distancias_min.count,diccionario[-1]))\n",
    "        return frecuencias_clases.index(max(frecuencias_clases))\n",
    "                    \n",
    "    def clasifica (self, datosTest, atributosDiscretos, diccionario):\n",
    "        return [ self.__clasifica_dato (dato,atributosDiscretos,diccionario)\n",
    "                 for dato in datosTest ]\n",
    "\n",
    "    \n"
   ]
  },
  {
   "cell_type": "code",
   "execution_count": 21,
   "metadata": {
    "collapsed": true
   },
   "outputs": [],
   "source": [
    "estrategia = EstrategiaParticionado.ValidacionCruzada(10)\n",
    "wine = Datos (\"../ficheros/ConjuntosDatos/wine_proc.data\", True)\n",
    "tic_tac_toe = Datos(\"../ficheros/ConjuntosDatos/tic-tac-toe.data\",True)"
   ]
  },
  {
   "cell_type": "code",
   "execution_count": 40,
   "metadata": {
    "collapsed": false
   },
   "outputs": [
    {
     "name": "stdout",
     "output_type": "stream",
     "text": [
      "Tasa de acierto k =  1  : 0.395058823529\n",
      "Tasa de acierto k =  3  : 0.395058823529\n",
      "Tasa de acierto k =  5  : 0.395058823529\n",
      "Tasa de acierto k =  11  : 0.402588235294\n",
      "Tasa de acierto k =  21  : 0.396941176471\n",
      "Tasa de acierto k =  51  : 0.406352941176\n"
     ]
    }
   ],
   "source": [
    "for k in [1,3,5,11,21,51]:\n",
    "        clasificador = ClasificadorKNN(k)\n",
    "        errores = clasificador.validacion(estrategia,wine,clasificador)\n",
    "        print (\"Tasa de acierto k = \",k,\" :\",1 - np.mean(errores))\n"
   ]
  },
  {
   "cell_type": "code",
   "execution_count": 41,
   "metadata": {
    "collapsed": false
   },
   "outputs": [
    {
     "name": "stdout",
     "output_type": "stream",
     "text": [
      "Tasa de acierto k =  1  : 0.346939192642\n",
      "Tasa de acierto k =  3  : 0.346285130301\n",
      "Tasa de acierto k =  5  : 0.347102708227\n",
      "Tasa de acierto k =  11  : 0.347266223812\n",
      "Tasa de acierto k =  21  : 0.345712825754\n",
      "Tasa de acierto k =  51  : 0.347102708227\n"
     ]
    }
   ],
   "source": [
    "\n",
    "for k in [1,3,5,11,21,51]:\n",
    "        clasificador = ClasificadorKNN(k)\n",
    "        errores = clasificador.validacion(estrategia,tic_tac_toe,clasificador)\n",
    "        print (\"Tasa de acierto k = \",k,\" :\",1 - np.mean(errores))\n"
   ]
  }
 ],
 "metadata": {
  "kernelspec": {
   "display_name": "Python 3",
   "language": "python",
   "name": "python3"
  },
  "language_info": {
   "codemirror_mode": {
    "name": "ipython",
    "version": 3
   },
   "file_extension": ".py",
   "mimetype": "text/x-python",
   "name": "python",
   "nbconvert_exporter": "python",
   "pygments_lexer": "ipython3",
   "version": "3.5.2"
  }
 },
 "nbformat": 4,
 "nbformat_minor": 0
}
