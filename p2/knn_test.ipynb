{
 "cells": [
  {
   "cell_type": "code",
   "execution_count": 2,
   "metadata": {
    "collapsed": false
   },
   "outputs": [],
   "source": [
    "from Clasificador import Clasificador \n",
    "import numpy as np\n",
    "import math \n",
    "from datos import Datos\n",
    "from sklearn.neighbors import KNeighborsClassifier\n",
    "from sklearn.model_selection import cross_val_score \n",
    "from sklearn.model_selection import KFold\n",
    "import EstrategiaParticionado\n",
    "from EstrategiaParticionado import ValidacionCruzada\n",
    "\n"
   ]
  },
  {
   "cell_type": "code",
   "execution_count": 3,
   "metadata": {
    "collapsed": false
   },
   "outputs": [],
   "source": [
    "def normalizar_atributo(datos_atributo,esDiscreto,mean,std):\n",
    "    if (esDiscreto):\n",
    "        return datos_atributo\n",
    "    else:\n",
    "        return list(map(lambda x: (x - mean) / std, datos_atributo))\n",
    "    \n",
    "def comparativa_con_sklearn(datos):\n",
    "    estrategia = EstrategiaParticionado.ValidacionCruzada(10)\n",
    "    sklearn_cv = KFold(n_splits=10,shuffle=True)\n",
    "    for k in [1,3,5,11,21,51]:\n",
    "            knn_classifier = KNeighborsClassifier(n_neighbors=k,algorithm='ball_tree')\n",
    "            clasificador = ClasificadorKNN(k)\n",
    "            scores = cross_val_score(knn_classifier, datos.datos[:,:-1],datos.datos[:,-1], cv = sklearn_cv)\n",
    "            errores = clasificador.validacion(estrategia,datos,clasificador)\n",
    "            print (\"Tasa de acierto k = \",k,\" :\",1 - np.mean(errores))\n",
    "            print (\"Tasa de acierto k = \",k,\" version sklearn :\", np.mean(scores))\n",
    "            \n",
    "class ClasificadorKNN (Clasificador):\n",
    "    datos = np.array([])\n",
    "    means = []\n",
    "    stdevs = []\n",
    "    k = 0\n",
    "    def __init__(self,k):\n",
    "        super(ClasificadorKNN,self).__init__()\n",
    "        self.k = k\n",
    "            \n",
    "    def entrenamiento(self, datosTrain, atributosDiscretos, diccionario):\n",
    "        datos_traspuestos = datosTrain.transpose()\n",
    "        self.means = list(map(np.mean,datos_traspuestos))\n",
    "        self.stdevs = list(map(np.std,datos_traspuestos))\n",
    "        datos_normalizados = map(normalizar_atributo,\n",
    "                                 datos_traspuestos,\n",
    "                                 atributosDiscretos,\n",
    "                                 self.means,\n",
    "                                 self.stdevs)\n",
    "        self.datos = np.array(list(datos_normalizados)).transpose()\n",
    "  \n",
    "    def __clasifica_dato(self,dato, atributosDiscretos, diccionario):\n",
    "        def __dist_euclides(dato_entrenamiento):\n",
    "            def dist_eje (x,y,esDiscreto):\n",
    "                return int (x != y) if esDiscreto else pow((x - y),2)\n",
    "            return math.sqrt(sum(map(dist_eje,\n",
    "                                     dato_entrenamiento,\n",
    "                                     dato,\n",
    "                                     atributosDiscretos)))         \n",
    "        distancias = map(__dist_euclides,self.datos[:,:-1])\n",
    "        distancias_min = sorted(zip(distancias,self.datos[:,-1]),key = lambda x: x[0])[:self.k]\n",
    "        vecinos = list(map(lambda x : x[1], distancias_min))\n",
    "        dominio_clase = list(diccionario[-1].values())\n",
    "        frecuencias_clases = list(map(vecinos.count,dominio_clase))\n",
    "        return dominio_clase[frecuencias_clases.index(max(frecuencias_clases))]\n",
    "                    \n",
    "    def clasifica (self, datosTest, atributosDiscretos, diccionario):\n",
    "        datos_test_normalizados = np.array(list(map(normalizar_atributo,\n",
    "                                                    datosTest.transpose(),\n",
    "                                                    atributosDiscretos,\n",
    "                                                    self.means,\n",
    "                                                    self.stdevs))).transpose()\n",
    "        return [ self.__clasifica_dato (dato,atributosDiscretos,diccionario)\n",
    "                 for dato in datos_test_normalizados]\n",
    "\n",
    "    \n"
   ]
  },
  {
   "cell_type": "code",
   "execution_count": 8,
   "metadata": {
    "collapsed": false
   },
   "outputs": [
    {
     "name": "stdout",
     "output_type": "stream",
     "text": [
      "178\n"
     ]
    }
   ],
   "source": [
    "wine = Datos (\"../ficheros/ConjuntosDatos/wine_proc.data\", True)\n",
    "digits = Datos(\"../ficheros/ConjuntosDatos/digits.data\",True)\n",
    "example3 = Datos(\"../ficheros/ConjuntosDatos/example3.data\",True)\n",
    "example4 = Datos(\"../ficheros/ConjuntosDatos/example4.data\",True)\n",
    "print(len(wine.datos))\n",
    "\n",
    "            "
   ]
  },
  {
   "cell_type": "code",
   "execution_count": 10,
   "metadata": {
    "collapsed": false
   },
   "outputs": [
    {
     "name": "stdout",
     "output_type": "stream",
     "text": [
      "Tasa de acierto k =  1  : 0.375529411765\n",
      "Tasa de acierto k =  1  version sklearn : 0.337581699346\n",
      "Tasa de acierto k =  3  : 0.424235294118\n",
      "Tasa de acierto k =  3  version sklearn : 0.370588235294\n",
      "Tasa de acierto k =  5  : 0.373411764706\n",
      "Tasa de acierto k =  5  version sklearn : 0.416993464052\n",
      "Tasa de acierto k =  11  : 0.406823529412\n",
      "Tasa de acierto k =  11  version sklearn : 0.402941176471\n",
      "Tasa de acierto k =  21  : 0.416470588235\n",
      "Tasa de acierto k =  21  version sklearn : 0.46568627451\n",
      "Tasa de acierto k =  51  : 0.367529411765\n",
      "Tasa de acierto k =  51  version sklearn : 0.364705882353\n"
     ]
    }
   ],
   "source": [
    "comparativa_con_sklearn(wine)"
   ]
  },
  {
   "cell_type": "code",
   "execution_count": 5,
   "metadata": {
    "collapsed": false
   },
   "outputs": [
    {
     "name": "stdout",
     "output_type": "stream",
     "text": [
      "Tasa de acierto k =  1  : 0.2\n",
      "Tasa de acierto k =  1  version sklearn : 0.198936170213\n",
      "Tasa de acierto k =  3  : 0.160638297872\n",
      "Tasa de acierto k =  3  version sklearn : 0.172340425532\n",
      "Tasa de acierto k =  5  : 0.184042553191\n",
      "Tasa de acierto k =  5  version sklearn : 0.187234042553\n",
      "Tasa de acierto k =  11  : 0.191489361702\n",
      "Tasa de acierto k =  11  version sklearn : 0.207446808511\n",
      "Tasa de acierto k =  21  : 0.181914893617\n",
      "Tasa de acierto k =  21  version sklearn : 0.210638297872\n",
      "Tasa de acierto k =  51  : 0.172340425532\n",
      "Tasa de acierto k =  51  version sklearn : 0.257446808511\n"
     ]
    }
   ],
   "source": [
    "comparativa_con_sklearn(digits)"
   ]
  },
  {
   "cell_type": "code",
   "execution_count": 7,
   "metadata": {
    "collapsed": false
   },
   "outputs": [
    {
     "name": "stdout",
     "output_type": "stream",
     "text": [
      "Tasa de acierto k =  1  : 0.5025\n",
      "Tasa de acierto k =  1  version sklearn : 0.5175\n",
      "Tasa de acierto k =  3  : 0.5425\n",
      "Tasa de acierto k =  3  version sklearn : 0.54\n",
      "Tasa de acierto k =  5  : 0.485\n",
      "Tasa de acierto k =  5  version sklearn : 0.5\n",
      "Tasa de acierto k =  11  : 0.4625\n",
      "Tasa de acierto k =  11  version sklearn : 0.435\n",
      "Tasa de acierto k =  21  : 0.4075\n",
      "Tasa de acierto k =  21  version sklearn : 0.4025\n",
      "Tasa de acierto k =  51  : 0.44\n",
      "Tasa de acierto k =  51  version sklearn : 0.43\n"
     ]
    }
   ],
   "source": [
    "comparativa_con_sklearn(example3)"
   ]
  },
  {
   "cell_type": "code",
   "execution_count": 9,
   "metadata": {
    "collapsed": false
   },
   "outputs": [
    {
     "name": "stdout",
     "output_type": "stream",
     "text": [
      "Tasa de acierto k =  1  : 0.52\n",
      "Tasa de acierto k =  1  version sklearn : 0.61\n",
      "Tasa de acierto k =  3  : 0.55\n",
      "Tasa de acierto k =  3  version sklearn : 0.57\n",
      "Tasa de acierto k =  5  : 0.57\n",
      "Tasa de acierto k =  5  version sklearn : 0.59\n",
      "Tasa de acierto k =  11  : 0.53\n",
      "Tasa de acierto k =  11  version sklearn : 0.48\n",
      "Tasa de acierto k =  21  : 0.53\n",
      "Tasa de acierto k =  21  version sklearn : 0.5\n",
      "Tasa de acierto k =  51  : 0.47\n",
      "Tasa de acierto k =  51  version sklearn : 0.47\n"
     ]
    }
   ],
   "source": [
    "comparativa_con_sklearn(example4)"
   ]
  }
 ],
 "metadata": {
  "anaconda-cloud": {},
  "kernelspec": {
   "display_name": "Python [default]",
   "language": "python",
   "name": "python3"
  },
  "language_info": {
   "codemirror_mode": {
    "name": "ipython",
    "version": 3
   },
   "file_extension": ".py",
   "mimetype": "text/x-python",
   "name": "python",
   "nbconvert_exporter": "python",
   "pygments_lexer": "ipython3",
   "version": "3.5.2"
  }
 },
 "nbformat": 4,
 "nbformat_minor": 0
}
