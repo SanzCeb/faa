{
 "cells": [
  {
   "cell_type": "code",
   "execution_count": 2,
   "metadata": {
    "collapsed": true
   },
   "outputs": [],
   "source": [
    "import numpy as np\n",
    "import random\n",
    "import math\n",
    "from operator import mul,neg\n",
    "\n",
    "from EstrategiaParticionado import ValidacionCruzada\n",
    "from datos import Datos\n",
    "from Clasificador import Clasificador\n",
    "\n",
    "from scipy.special import expit\n",
    "from sklearn.linear_model import LogisticRegression\n",
    "from sklearn.model_selection import cross_val_score \n",
    "from sklearn.model_selection import KFold\n",
    "from sklearn.model_selection import train_test_split\n",
    "\n",
    "\n",
    "vector = np.array([1,17.99,10.38,122.8,1001,0.1184,0.2776,0.3001,0.1471,0.2419,0.07871,1.095,0.9053,8.589,153.4,0.006399,0.04904,0.05373,0.01587,0.03003,0.006193,25.38,17.33,184.6,2019,0.1622,0.6656,0.7119,0.2654,0.4601,0.1189])\n"
   ]
  },
  {
   "cell_type": "code",
   "execution_count": 3,
   "metadata": {
    "collapsed": true
   },
   "outputs": [],
   "source": [
    "def producto_escalar(w,x):\n",
    "    return sum(map(mul,w,x))\n"
   ]
  },
  {
   "cell_type": "code",
   "execution_count": 4,
   "metadata": {
    "collapsed": true
   },
   "outputs": [],
   "source": [
    "def calcular_sigmoidal (a):\n",
    "    return expit(a)"
   ]
  },
  {
   "cell_type": "code",
   "execution_count": 5,
   "metadata": {
    "collapsed": true
   },
   "outputs": [],
   "source": [
    "def generar_vector(d):\n",
    "    return np.array([ random.uniform(-1,1) for i in range(d) ])\n"
   ]
  },
  {
   "cell_type": "code",
   "execution_count": 43,
   "metadata": {
    "collapsed": true
   },
   "outputs": [],
   "source": [
    "def generar_vector_datos(dato):\n",
    "    return np.insert(dato,0,1)"
   ]
  },
  {
   "cell_type": "code",
   "execution_count": 54,
   "metadata": {
    "collapsed": false
   },
   "outputs": [
    {
     "data": {
      "text/plain": [
       "array([1, 0, 8, 3, 2])"
      ]
     },
     "execution_count": 54,
     "metadata": {},
     "output_type": "execute_result"
    }
   ],
   "source": [
    "generar_vector_datos(np.array([0,8,3,2]))"
   ]
  },
  {
   "cell_type": "code",
   "execution_count": 6,
   "metadata": {
    "collapsed": false
   },
   "outputs": [],
   "source": [
    "pe = producto_escalar(generar_vector(len(vector)),vector)"
   ]
  },
  {
   "cell_type": "code",
   "execution_count": 55,
   "metadata": {
    "collapsed": false
   },
   "outputs": [],
   "source": [
    "class ClasificadorRegresionLogistica(Clasificador):\n",
    "    w = np.array([])\n",
    "    n = 0.0 #cte aprendizaje\n",
    "    num_epocas = 0\n",
    "\n",
    "    def __init__(self,num_epocas, n):\n",
    "        super(ClasificadorRegresionLogistica, self).__init__()\n",
    "        self.num_epocas = num_epocas\n",
    "        self.n = n\n",
    "    def __generar_vector_nuevo(self,dato,sigmoidal,clase):\n",
    "        factor = self.n * (sigmoidal - clase)\n",
    "        return self.w - np.array(list(map(lambda x : x * factor, dato)))\n",
    "    def entrenamiento(self, datosTrain, atributosDiscretos, diccionario):\n",
    "        self.w = generar_vector(len(atributosDiscretos))\n",
    "        for epoca in range(self.num_epocas):\n",
    "            for dato in datosTrain:\n",
    "                vector_datos = generar_vector_datos(dato[:-1])\n",
    "                pe = producto_escalar( self.w,vector_datos)\n",
    "                sigmoidal = calcular_sigmoidal(pe)\n",
    "                self.w = self.__generar_vector_nuevo(vector_datos,\n",
    "                                                     sigmoidal,\n",
    "                                                     dato[-1])\n",
    "        return self.w\n",
    "    def __clasifica_dato(self,dato_test):\n",
    "        return int(calcular_sigmoidal(producto_escalar(self.w,dato_test)) > 0.5)\n",
    "    def clasifica (self, datosTest, atributosDiscretos, diccionario):\n",
    "        return list(map(self.__clasifica_dato, datosTest))\n"
   ]
  },
  {
   "cell_type": "code",
   "execution_count": 56,
   "metadata": {
    "collapsed": false
   },
   "outputs": [],
   "source": [
    "wdbc = Datos('../ficheros/ConjuntosDatos/wdbc.data',True)\n",
    "example3 = Datos('../ficheros/ConjuntosDatos/example3.data',True)\n",
    "example4 = Datos('../ficheros/ConjuntosDatos/example4.data',True)"
   ]
  },
  {
   "cell_type": "code",
   "execution_count": 87,
   "metadata": {
    "collapsed": false
   },
   "outputs": [],
   "source": [
    "estrategia = ValidacionCruzada(10)\n",
    "sklearn_cv = KFold(n_splits=10,shuffle=True)\n",
    "clasificador_sklearn = LogisticRegression(n_jobs=2) "
   ]
  },
  {
   "cell_type": "code",
   "execution_count": 47,
   "metadata": {
    "collapsed": false
   },
   "outputs": [
    {
     "name": "stdout",
     "output_type": "stream",
     "text": [
      "0.597368421053\n"
     ]
    }
   ],
   "source": [
    "#clasificador = ClasificadorRegresionLogistica(10,1)\n",
    "\n",
    "scores = cross_val_score(clasificador_sklearn, wdbc.datos[:,:-1],wdbc.datos[:,-1],cv = sklearn_cv)\n",
    "print(np.mean(scores))"
   ]
  },
  {
   "cell_type": "code",
   "execution_count": 131,
   "metadata": {
    "collapsed": false
   },
   "outputs": [
    {
     "name": "stdout",
     "output_type": "stream",
     "text": [
      "0.570175438596\n"
     ]
    }
   ],
   "source": [
    "X_train,X_test,y_train,y_test = train_test_split(wdbc.datos[:,:-1],\n",
    "                                                 wdbc.datos[:,-1], \n",
    "                                                 test_size = 0.2)\n",
    "clasificador_sklearn.fit(X_train,y_train)\n",
    "print(clasificador_sklearn.score(X_test,y_test))"
   ]
  },
  {
   "cell_type": "code",
   "execution_count": 132,
   "metadata": {
    "collapsed": false
   },
   "outputs": [
    {
     "name": "stdout",
     "output_type": "stream",
     "text": [
      "31\n"
     ]
    }
   ],
   "source": [
    "print(len(wdbc.datos[0]))"
   ]
  },
  {
   "cell_type": "code",
   "execution_count": 153,
   "metadata": {
    "collapsed": false
   },
   "outputs": [
    {
     "name": "stdout",
     "output_type": "stream",
     "text": [
      "0.5\n"
     ]
    }
   ],
   "source": [
    "X_train,X_test,y_train,y_test = train_test_split(example3.datos[:,:-1],\n",
    "                                                 example3.datos[:,-1], \n",
    "                                                 test_size = 0.2)\n",
    "clasificador_sklearn.fit(X_train,y_train)\n",
    "print(clasificador_sklearn.score(X_test,y_test))"
   ]
  },
  {
   "cell_type": "code",
   "execution_count": 154,
   "metadata": {
    "collapsed": false
   },
   "outputs": [],
   "source": [
    "clasificador = ClasificadorRegresionLogistica(100,1)"
   ]
  },
  {
   "cell_type": "code",
   "execution_count": 155,
   "metadata": {
    "collapsed": false
   },
   "outputs": [
    {
     "name": "stdout",
     "output_type": "stream",
     "text": [
      "0.510934065934\n"
     ]
    }
   ],
   "source": [
    "errores = clasificador.validacion(estrategia,wdbc,clasificador)\n",
    "\n",
    "print(1 - np.mean(errores))"
   ]
  },
  {
   "cell_type": "code",
   "execution_count": 51,
   "metadata": {
    "collapsed": false
   },
   "outputs": [
    {
     "name": "stdout",
     "output_type": "stream",
     "text": [
      "0.4975\n"
     ]
    }
   ],
   "source": [
    "errores = clasificador.validacion(estrategia,example3,clasificador)\n",
    "\n",
    "print(1 - np.mean(errores))"
   ]
  },
  {
   "cell_type": "code",
   "execution_count": 52,
   "metadata": {
    "collapsed": false
   },
   "outputs": [
    {
     "name": "stdout",
     "output_type": "stream",
     "text": [
      "0.52\n"
     ]
    }
   ],
   "source": [
    "errores = clasificador.validacion(estrategia,example4,clasificador)\n",
    "\n",
    "print(1 - np.mean(errores))"
   ]
  }
 ],
 "metadata": {
  "anaconda-cloud": {},
  "kernelspec": {
   "display_name": "Python [default]",
   "language": "python",
   "name": "python3"
  },
  "language_info": {
   "codemirror_mode": {
    "name": "ipython",
    "version": 3
   },
   "file_extension": ".py",
   "mimetype": "text/x-python",
   "name": "python",
   "nbconvert_exporter": "python",
   "pygments_lexer": "ipython3",
   "version": "3.5.2"
  }
 },
 "nbformat": 4,
 "nbformat_minor": 1
}
