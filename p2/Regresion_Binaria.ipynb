{
 "cells": [
  {
   "cell_type": "code",
   "execution_count": 1,
   "metadata": {
    "collapsed": true
   },
   "outputs": [],
   "source": [
    "from Clasificador import Clasificador\n",
    "import numpy as np\n",
    "import random\n",
    "import math\n",
    "from operator import mul,sub\n"
   ]
  },
  {
   "cell_type": "code",
   "execution_count": 2,
   "metadata": {
    "collapsed": true
   },
   "outputs": [],
   "source": [
    "def producto_escalar(w,x):\n",
    "    return sum(map(mul,w,x))"
   ]
  },
  {
   "cell_type": "code",
   "execution_count": 3,
   "metadata": {
    "collapsed": true
   },
   "outputs": [],
   "source": [
    "def calcular_sigmoidal (a):\n",
    "    return pow(1 + pow(math.e,-a),-1)\n"
   ]
  },
  {
   "cell_type": "code",
   "execution_count": 4,
   "metadata": {
    "collapsed": true
   },
   "outputs": [],
   "source": [
    "def generar_vector(d):\n",
    "    return np.array([ random.uniform(-1,1) for i in range(d) ])\n"
   ]
  },
  {
   "cell_type": "code",
   "execution_count": 6,
   "metadata": {
    "collapsed": false
   },
   "outputs": [],
   "source": [
    "class ClasificadorRegresionLogistica(Clasificador):\n",
    "    w = np.array([])\n",
    "    n = 0.0 #cte aprendizaje\n",
    "    num_epocas = 0\n",
    "\n",
    "    def __init__(self,num_epocas, n):\n",
    "        super(ClasificadorRegresionLogistica, self).__init()\n",
    "        self.num_epocas = 0\n",
    "        self.n = n\n",
    "    def __generar_vector_nuevo(self,dato,sigmoidal,clase):\n",
    "        factor = n * (sigmoidal - clase)\n",
    "        return self.w - np.array(list(map(lambda x : x * factor, dato)))\n",
    "    def entrenamiento(self, datosTrain, atributosDiscretos, diccionario):\n",
    "        self.w = generar_vector(len(atributosDiscretos))\n",
    "        for epoca in range(num_epocas):\n",
    "            for dato in datosTrain:\n",
    "                pe = producto_escalar(self.w,dato[:-1])\n",
    "                sigmoidal = calcular_sigmoidal(pe)\n",
    "                self.w = self.__generar_vector_nuevo(self,\n",
    "                                                     dato,\n",
    "                                                     sigmoidal,\n",
    "                                                     dato[-1])\n",
    "        return self.w\n",
    "    def __clasifica_dato(dato_test):\n",
    "        return int(calcular_sigmoidal(producto_escalar(self.w,dato_test)) > 0.5)\n",
    "    def clasifica (self, datosTest, atributosDiscretos, diccionario):\n",
    "        return list(map(__clasifica_dato, datosTest))\n"
   ]
  }
 ],
 "metadata": {
  "kernelspec": {
   "display_name": "Python 3",
   "language": "python",
   "name": "python3"
  },
  "language_info": {
   "codemirror_mode": {
    "name": "ipython",
    "version": 3
   },
   "file_extension": ".py",
   "mimetype": "text/x-python",
   "name": "python",
   "nbconvert_exporter": "python",
   "pygments_lexer": "ipython3",
   "version": "3.5.2"
  }
 },
 "nbformat": 4,
 "nbformat_minor": 1
}
