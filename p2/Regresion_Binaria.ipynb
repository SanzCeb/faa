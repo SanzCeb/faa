{
 "cells": [
  {
   "cell_type": "code",
   "execution_count": 34,
   "metadata": {
    "collapsed": false
   },
   "outputs": [],
   "source": [
    "import numpy as np\n",
    "import random\n",
    "import math\n",
    "from operator import mul,neg\n",
    "\n",
    "from EstrategiaParticionado import ValidacionCruzada\n",
    "from datos import Datos\n",
    "from ClasificadorMulticlase import ClasificadorMulticlase\n",
    "from Clasificador import Clasificador\n",
    "\n",
    "from scipy.special import expit\n",
    "from sklearn.linear_model import LogisticRegression\n",
    "from sklearn.model_selection import cross_val_score \n",
    "from sklearn.model_selection import KFold\n",
    "from sklearn.model_selection import train_test_split\n",
    "from sklearn import datasets\n",
    "from numpy.linalg import norm\n",
    "\n",
    "\n"
   ]
  },
  {
   "cell_type": "code",
   "execution_count": 2,
   "metadata": {
    "collapsed": true
   },
   "outputs": [],
   "source": [
    "def producto_escalar(w,x):\n",
    "    return sum(map(mul,w,x))\n"
   ]
  },
  {
   "cell_type": "code",
   "execution_count": 3,
   "metadata": {
    "collapsed": true
   },
   "outputs": [],
   "source": [
    "def sigmoidal (a):\n",
    "    return expit(a)"
   ]
  },
  {
   "cell_type": "code",
   "execution_count": 4,
   "metadata": {
    "collapsed": true
   },
   "outputs": [],
   "source": [
    "def crear_vector_w(d):\n",
    "    return np.array([ random.uniform(-1,1) for i in range(d) ])\n"
   ]
  },
  {
   "cell_type": "code",
   "execution_count": 5,
   "metadata": {
    "collapsed": false
   },
   "outputs": [
    {
     "data": {
      "text/plain": [
       "array([ 0.79653017,  0.86189176,  0.98181759,  0.75480081,  0.60149136,\n",
       "        0.0801038 ])"
      ]
     },
     "execution_count": 5,
     "metadata": {},
     "output_type": "execute_result"
    }
   ],
   "source": [
    "crear_vector_w(6)"
   ]
  },
  {
   "cell_type": "code",
   "execution_count": 6,
   "metadata": {
    "collapsed": true
   },
   "outputs": [],
   "source": [
    "def crear_vector_datos(dato):\n",
    "    return np.insert(dato,0,1)"
   ]
  },
  {
   "cell_type": "code",
   "execution_count": 7,
   "metadata": {
    "collapsed": false
   },
   "outputs": [
    {
     "data": {
      "text/plain": [
       "array([1, 0, 8, 3, 2])"
      ]
     },
     "execution_count": 7,
     "metadata": {},
     "output_type": "execute_result"
    }
   ],
   "source": [
    "crear_vector_datos(np.array([0,8,3,2]))"
   ]
  },
  {
   "cell_type": "code",
   "execution_count": 8,
   "metadata": {
    "collapsed": false
   },
   "outputs": [
    {
     "name": "stdout",
     "output_type": "stream",
     "text": [
      "-1800.74014311\n"
     ]
    }
   ],
   "source": [
    "vector = np.array([1,17.99,10.38,122.8,1001,0.1184,0.2776,0.3001,0.1471,0.2419,0.07871,1.095,0.9053,8.589,153.4,0.006399,0.04904,0.05373,0.01587,0.03003,0.006193,25.38,17.33,184.6,2019,0.1622,0.6656,0.7119,0.2654,0.4601,0.1189])\n",
    "print(producto_escalar(crear_vector_w(len(vector)),vector))\n"
   ]
  },
  {
   "cell_type": "code",
   "execution_count": 26,
   "metadata": {
    "collapsed": false
   },
   "outputs": [],
   "source": [
    "class ClasificadorRegresionLogistica(Clasificador):\n",
    "    w = np.array([])\n",
    "    n = 0.0 #cte aprendizaje\n",
    "    num_epocas = 0\n",
    "\n",
    "    def __init__(self,num_epocas, n):\n",
    "        super(ClasificadorRegresionLogistica, self).__init__()\n",
    "        self.num_epocas = num_epocas\n",
    "        self.n = n\n",
    "        \n",
    "    def __generar_vector_nuevo(self,dato,sigmoidal,clase):\n",
    "        factor = self.n * (sigmoidal - clase)\n",
    "        return self.w - np.array(list(map(lambda x : x * factor, dato)))\n",
    "    \n",
    "    def entrenamiento(self, datosTrain, atributosDiscretos, diccionario):\n",
    "        self.w = crear_vector_w(len(atributosDiscretos))\n",
    "        for epoca in range(self.num_epocas):\n",
    "            for dato in datosTrain:\n",
    "                vector_datos = crear_vector_datos(dato[:-1])\n",
    "                pe = producto_escalar( self.w,vector_datos)\n",
    "                sigmoidal_res = sigmoidal(pe)\n",
    "                self.w = self.__generar_vector_nuevo(vector_datos,\n",
    "                                                     sigmoidal_res,\n",
    "                                                     dato[-1])\n",
    "        return self.w\n",
    "    def __calcular_confianza(self,vector_dato_test):\n",
    "        return producto_escalar(vector_dato_test,self.w) / norm(self.w)\n",
    "    \n",
    "    def __verosimilitud(self,vector_dato_test):\n",
    "        return sigmoidal(producto_escalar(self.w,vector_dato_test))\n",
    "    \n",
    "    def __clasifica_dato(self,dato_test):\n",
    "        return int(self.__verosimilitud(dato_test) > 0.5)\n",
    "    \n",
    "    def clasifica (self, datosTest, atributosDiscretos, diccionario):\n",
    "        vectores_datos_test = map(crear_vector_datos,datosTest)\n",
    "        return list(map(self.__clasifica_dato, vectores_datos_test))\n",
    "    \n",
    "    def __confianza(self, datosTest):\n",
    "        vectores_datos_test = map(crear_vector_datos,datosTest)\n",
    "        return [ self.__calcular_confianza(vector_dato_test)\n",
    "                   for vector_dato_test in vectores_datos_test]\n",
    "    \n",
    "    def score (self, datosTest, atributosDiscretos, diccionario):\n",
    "        scores = np.zeros((len(datosTest),2))\n",
    "        scores[:,0] = self.clasifica(datosTest,atributosDiscretos,diccionario)\n",
    "        scores[:,1] = np.array(self.__confianza(datosTest))\n",
    "        return scores\n"
   ]
  },
  {
   "cell_type": "code",
   "execution_count": 35,
   "metadata": {
    "collapsed": false
   },
   "outputs": [],
   "source": [
    "wdbc = Datos('../ficheros/ConjuntosDatos/wdbc.data',True)\n",
    "example3 = Datos('../ficheros/ConjuntosDatos/example3.data',True)\n",
    "example4 = Datos('../ficheros/ConjuntosDatos/example4.data',True)\n",
    "wine = Datos('../ficheros/ConjuntosDatos/wine_proc.data',True)\n",
    "digits = Datos('../ficheros/ConjuntosDatos/digits.data',True)\n",
    "iris = datasets.load_iris()"
   ]
  },
  {
   "cell_type": "code",
   "execution_count": 37,
   "metadata": {
    "collapsed": false
   },
   "outputs": [],
   "source": [
    "estrategia = ValidacionCruzada(10)\n",
    "sklearn_cv = KFold(n_splits=10,shuffle=True)\n",
    "clasificador_sklearn = LogisticRegression() \n"
   ]
  },
  {
   "cell_type": "code",
   "execution_count": 12,
   "metadata": {
    "collapsed": false
   },
   "outputs": [
    {
     "name": "stdout",
     "output_type": "stream",
     "text": [
      "0.602819548872\n"
     ]
    }
   ],
   "source": [
    "#clasificador = ClasificadorRegresionLogistica(10,1)\n",
    "\n",
    "scores = cross_val_score(clasificador_sklearn, wdbc.datos[:,:-1],wdbc.datos[:,-1],cv = sklearn_cv)\n",
    "print(np.mean(scores))"
   ]
  },
  {
   "cell_type": "code",
   "execution_count": 20,
   "metadata": {
    "collapsed": false
   },
   "outputs": [
    {
     "name": "stdout",
     "output_type": "stream",
     "text": [
      "0.552631578947\n"
     ]
    }
   ],
   "source": [
    "X_train,X_test,y_train,y_test = train_test_split(wdbc.datos[:,:-1],\n",
    "                                                 wdbc.datos[:,-1], \n",
    "                                                 test_size = 0.2)\n",
    "clasificador_sklearn.fit(X_train,y_train)\n",
    "print(clasificador_sklearn.score(X_test,y_test))"
   ]
  },
  {
   "cell_type": "code",
   "execution_count": 132,
   "metadata": {
    "collapsed": false
   },
   "outputs": [
    {
     "name": "stdout",
     "output_type": "stream",
     "text": [
      "31\n"
     ]
    }
   ],
   "source": [
    "print(len(wdbc.datos[0]))"
   ]
  },
  {
   "cell_type": "code",
   "execution_count": 196,
   "metadata": {
    "collapsed": false
   },
   "outputs": [
    {
     "name": "stdout",
     "output_type": "stream",
     "text": [
      "0.55\n"
     ]
    }
   ],
   "source": [
    "X_train,X_test,y_train,y_test = train_test_split(example3.datos[:,:-1],\n",
    "                                                 example3.datos[:,-1], \n",
    "                                                 test_size = 0.2)\n",
    "clasificador_sklearn.fit(X_train,y_train)\n",
    "print(clasificador_sklearn.score(X_test,y_test))"
   ]
  },
  {
   "cell_type": "code",
   "execution_count": 21,
   "metadata": {
    "collapsed": false
   },
   "outputs": [],
   "source": [
    "clasificador = ClasificadorRegresionLogistica(100,1)"
   ]
  },
  {
   "cell_type": "code",
   "execution_count": 182,
   "metadata": {
    "collapsed": false
   },
   "outputs": [
    {
     "name": "stdout",
     "output_type": "stream",
     "text": [
      "0.529532967033\n"
     ]
    }
   ],
   "source": [
    "errores = clasificador.validacion(estrategia,wdbc,clasificador)\n",
    "\n",
    "print(1 - np.mean(errores))"
   ]
  },
  {
   "cell_type": "code",
   "execution_count": 184,
   "metadata": {
    "collapsed": false
   },
   "outputs": [
    {
     "name": "stdout",
     "output_type": "stream",
     "text": [
      "0.475\n"
     ]
    }
   ],
   "source": [
    "errores = clasificador.validacion(estrategia,example3,clasificador)\n",
    "\n",
    "print(1 - np.mean(errores))"
   ]
  },
  {
   "cell_type": "code",
   "execution_count": 185,
   "metadata": {
    "collapsed": false
   },
   "outputs": [
    {
     "name": "stdout",
     "output_type": "stream",
     "text": [
      "0.47\n"
     ]
    }
   ],
   "source": [
    "errores = clasificador.validacion(estrategia,example4,clasificador)\n",
    "\n",
    "print(1 - np.mean(errores))"
   ]
  },
  {
   "cell_type": "code",
   "execution_count": 36,
   "metadata": {
    "collapsed": false
   },
   "outputs": [],
   "source": [
    "clasificador = ClasificadorMulticlase(ClasificadorRegresionLogistica(10,1))"
   ]
  },
  {
   "cell_type": "code",
   "execution_count": 33,
   "metadata": {
    "collapsed": false
   },
   "outputs": [
    {
     "name": "stdout",
     "output_type": "stream",
     "text": [
      "0.402588235294\n"
     ]
    }
   ],
   "source": [
    "errores = clasificador.validacion(estrategia,wine,clasificador)\n",
    "print(1 - np.mean(errores))"
   ]
  },
  {
   "cell_type": "code",
   "execution_count": 39,
   "metadata": {
    "collapsed": false
   },
   "outputs": [
    {
     "name": "stdout",
     "output_type": "stream",
     "text": [
      "0.109574468085\n"
     ]
    }
   ],
   "source": [
    "errores = clasificador.validacion(estrategia,digits,clasificador)\n",
    "print(1 - np.mean(errores))"
   ]
  }
 ],
 "metadata": {
  "anaconda-cloud": {},
  "kernelspec": {
   "display_name": "Python [default]",
   "language": "python",
   "name": "python3"
  },
  "language_info": {
   "codemirror_mode": {
    "name": "ipython",
    "version": 3
   },
   "file_extension": ".py",
   "mimetype": "text/x-python",
   "name": "python",
   "nbconvert_exporter": "python",
   "pygments_lexer": "ipython3",
   "version": "3.5.2"
  }
 },
 "nbformat": 4,
 "nbformat_minor": 1
}
