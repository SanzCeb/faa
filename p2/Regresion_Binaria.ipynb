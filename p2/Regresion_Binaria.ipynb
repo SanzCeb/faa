{
 "cells": [
  {
   "cell_type": "code",
   "execution_count": 367,
   "metadata": {
    "collapsed": true
   },
   "outputs": [],
   "source": [
    "import numpy as np\n",
    "import random\n",
    "import math\n",
    "from operator import mul,neg\n",
    "\n",
    "from EstrategiaParticionado import ValidacionCruzada\n",
    "from datos import Datos\n",
    "from Clasificador import Clasificador\n",
    "\n",
    "from scipy.special import expit\n",
    "from sklearn.linear_model import LogisticRegression\n",
    "from sklearn.model_selection import cross_val_score \n",
    "from sklearn.model_selection import KFold\n",
    "from sklearn.model_selection import train_test_split\n",
    "\n",
    "\n",
    "vector = np.array([1,17.99,10.38,122.8,1001,0.1184,0.2776,0.3001,0.1471,0.2419,0.07871,1.095,0.9053,8.589,153.4,0.006399,0.04904,0.05373,0.01587,0.03003,0.006193,25.38,17.33,184.6,2019,0.1622,0.6656,0.7119,0.2654,0.4601,0.1189])\n"
   ]
  },
  {
   "cell_type": "code",
   "execution_count": 322,
   "metadata": {
    "collapsed": true
   },
   "outputs": [],
   "source": [
    "def producto_escalar(w,x):\n",
    "    return sum(map(mul,w,x))\n"
   ]
  },
  {
   "cell_type": "code",
   "execution_count": 368,
   "metadata": {
    "collapsed": true
   },
   "outputs": [],
   "source": [
    "def calcular_sigmoidal (a):\n",
    "    return expit(a)"
   ]
  },
  {
   "cell_type": "code",
   "execution_count": 323,
   "metadata": {
    "collapsed": true
   },
   "outputs": [],
   "source": [
    "def generar_vector(d):\n",
    "    return np.array([ random.uniform(-1,1) for i in range(d) ])\n"
   ]
  },
  {
   "cell_type": "code",
   "execution_count": 314,
   "metadata": {
    "collapsed": false
   },
   "outputs": [
    {
     "name": "stdout",
     "output_type": "stream",
     "text": [
      "-1711.97767175\n",
      "0.0\n"
     ]
    }
   ],
   "source": [
    "pe = producto_escalar(generar_vector(len(vector)),vector)"
   ]
  },
  {
   "cell_type": "code",
   "execution_count": 369,
   "metadata": {
    "collapsed": false
   },
   "outputs": [],
   "source": [
    "class ClasificadorRegresionLogistica(Clasificador):\n",
    "    w = np.array([])\n",
    "    n = 0.0 #cte aprendizaje\n",
    "    num_epocas = 0\n",
    "\n",
    "    def __init__(self,num_epocas, n):\n",
    "        super(ClasificadorRegresionLogistica, self).__init__()\n",
    "        self.num_epocas = num_epocas\n",
    "        self.n = n\n",
    "    def __generar_vector_nuevo(self,dato,sigmoidal,clase):\n",
    "        factor = self.n * (sigmoidal - clase)\n",
    "        return self.w - np.array(list(map(lambda x : x * factor, dato)))\n",
    "    def entrenamiento(self, datosTrain, atributosDiscretos, diccionario):\n",
    "        self.w = generar_vector(len(atributosDiscretos))\n",
    "        for epoca in range(self.num_epocas):\n",
    "            for dato in datosTrain:\n",
    "                pe = producto_escalar(self.w,dato[:-1])\n",
    "                sigmoidal = calcular_sigmoidal(pe)\n",
    "                self.w = self.__generar_vector_nuevo(dato,\n",
    "                                                     sigmoidal,\n",
    "                                                     dato[-1])\n",
    "        return self.w\n",
    "    def __clasifica_dato(self,dato_test):\n",
    "        return int(calcular_sigmoidal(producto_escalar(self.w,dato_test)) > 0.5)\n",
    "    def clasifica (self, datosTest, atributosDiscretos, diccionario):\n",
    "        return list(map(self.__clasifica_dato, datosTest))\n"
   ]
  },
  {
   "cell_type": "code",
   "execution_count": 370,
   "metadata": {
    "collapsed": false
   },
   "outputs": [],
   "source": [
    "wdbc = Datos('../ficheros/ConjuntosDatos/wdbc.data',True)"
   ]
  },
  {
   "cell_type": "code",
   "execution_count": 371,
   "metadata": {
    "collapsed": false
   },
   "outputs": [],
   "source": [
    "estrategia = ValidacionCruzada(10)\n",
    "sklearn_cv = KFold(n_splits=10,shuffle=True)\n",
    "clasificador_sklearn = LogisticRegression() "
   ]
  },
  {
   "cell_type": "code",
   "execution_count": 372,
   "metadata": {
    "collapsed": false
   },
   "outputs": [
    {
     "name": "stdout",
     "output_type": "stream",
     "text": [
      "0.564097744361\n"
     ]
    }
   ],
   "source": [
    "#clasificador = ClasificadorRegresionLogistica(10,1)\n",
    "\n",
    "scores = cross_val_score(clasificador_sklearn, wdbc.datos[:,:-1],wdbc.datos[:,-1],cv = sklearn_cv)\n",
    "print(np.mean(scores))"
   ]
  },
  {
   "cell_type": "code",
   "execution_count": 373,
   "metadata": {
    "collapsed": false
   },
   "outputs": [
    {
     "name": "stdout",
     "output_type": "stream",
     "text": [
      "0.543859649123\n"
     ]
    }
   ],
   "source": [
    "X_train,X_test,y_train,y_test = train_test_split(wdbc.datos[:,:-1],\n",
    "                                                 wdbc.datos[:,-1], \n",
    "                                                 test_size = 0.2)\n",
    "clasificador_sklearn.fit(X_train,y_train)\n",
    "print(clasificador_sklearn.score(X_test,y_test))"
   ]
  },
  {
   "cell_type": "code",
   "execution_count": 374,
   "metadata": {
    "collapsed": false
   },
   "outputs": [],
   "source": [
    "clasificador = ClasificadorRegresionLogistica(10,1)"
   ]
  },
  {
   "cell_type": "code",
   "execution_count": 376,
   "metadata": {
    "collapsed": false
   },
   "outputs": [
    {
     "name": "stdout",
     "output_type": "stream",
     "text": [
      "0.424175824176\n"
     ]
    }
   ],
   "source": [
    "errores = clasificador.validacion(estrategia,wdbc,clasificador)\n",
    "\n",
    "print(1 - np.mean(errores))"
   ]
  }
 ],
 "metadata": {
  "kernelspec": {
   "display_name": "Python 3",
   "language": "python",
   "name": "python3"
  },
  "language_info": {
   "codemirror_mode": {
    "name": "ipython",
    "version": 3
   },
   "file_extension": ".py",
   "mimetype": "text/x-python",
   "name": "python",
   "nbconvert_exporter": "python",
   "pygments_lexer": "ipython3",
   "version": "3.5.2"
  }
 },
 "nbformat": 4,
 "nbformat_minor": 1
}
