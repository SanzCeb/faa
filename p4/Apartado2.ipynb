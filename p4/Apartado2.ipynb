{
 "cells": [
  {
   "cell_type": "code",
   "execution_count": 37,
   "metadata": {
    "collapsed": true
   },
   "outputs": [],
   "source": [
    "import numpy as np \n",
    "from sklearn.linear_model import LogisticRegression\n",
    "from sklearn.multiclass import OneVsRestClassifier\n",
    "from sklearn.naive_bayes import GaussianNB\n",
    "from sklearn.neighbors import KNeighborsClassifier\n",
    "from sklearn.ensemble import VotingClassifier\n",
    "from sklearn.model_selection import cross_val_score, KFold\n",
    "from datos import Datos"
   ]
  },
  {
   "cell_type": "code",
   "execution_count": 38,
   "metadata": {
    "collapsed": false
   },
   "outputs": [],
   "source": [
    "wine_proc = Datos('../ficheros/ConjuntosDatos/wine_proc.data',True)\n",
    "wdbc = Datos('../ficheros/ConjuntosDatos/wdbc.data',True)\n",
    "crx = Datos('../ficheros/ConjuntosDatos/crx_clean.data',True)\n",
    "bank = Datos('../ficheros/ConjuntosDatos/data_banknote_authentication.data',True)"
   ]
  },
  {
   "cell_type": "code",
   "execution_count": 40,
   "metadata": {
    "collapsed": false
   },
   "outputs": [],
   "source": [
    "bayes = GaussianNB()\n",
    "regresion = OneVsRestClassifier(LogisticRegression(random_state=1))\n",
    "vecinos = KNeighborsClassifier(n_neighbors=3, algorithm='ball_tree')\n",
    "ensemble = VotingClassifier(estimators=[('gnb',bayes),('lr',regresion),('kn',vecinos)], voting='hard')"
   ]
  },
  {
   "cell_type": "code",
   "execution_count": 41,
   "metadata": {
    "collapsed": false
   },
   "outputs": [],
   "source": [
    "def show_score(clf,dataset):\n",
    "    particionado = KFold(n_splits=5, shuffle=True)\n",
    "    scores = cross_val_score(clf, dataset.datos[:,:-1], dataset.datos[:,-1],cv=particionado)\n",
    "    print(np.mean(scores))"
   ]
  },
  {
   "cell_type": "code",
   "execution_count": 42,
   "metadata": {
    "collapsed": false
   },
   "outputs": [
    {
     "name": "stdout",
     "output_type": "stream",
     "text": [
      "0.949365079365\n"
     ]
    }
   ],
   "source": [
    "show_score(ensemble,wine_proc)"
   ]
  },
  {
   "cell_type": "code",
   "execution_count": 43,
   "metadata": {
    "collapsed": false
   },
   "outputs": [
    {
     "name": "stdout",
     "output_type": "stream",
     "text": [
      "0.95955596957\n"
     ]
    }
   ],
   "source": [
    "show_score(ensemble,wdbc)"
   ]
  },
  {
   "cell_type": "code",
   "execution_count": 44,
   "metadata": {
    "collapsed": false
   },
   "outputs": [
    {
     "name": "stdout",
     "output_type": "stream",
     "text": [
      "0.834609512625\n"
     ]
    }
   ],
   "source": [
    "show_score(ensemble,crx)"
   ]
  },
  {
   "cell_type": "code",
   "execution_count": 45,
   "metadata": {
    "collapsed": false
   },
   "outputs": [
    {
     "name": "stdout",
     "output_type": "stream",
     "text": [
      "0.989796947578\n"
     ]
    }
   ],
   "source": [
    "show_score(ensemble,bank)"
   ]
  },
  {
   "cell_type": "code",
   "execution_count": 47,
   "metadata": {
    "collapsed": false
   },
   "outputs": [
    {
     "name": "stdout",
     "output_type": "stream",
     "text": [
      "0.966349206349\n"
     ]
    }
   ],
   "source": [
    "show_score(regresion,wine_proc)"
   ]
  },
  {
   "cell_type": "code",
   "execution_count": 48,
   "metadata": {
    "collapsed": false
   },
   "outputs": [
    {
     "name": "stdout",
     "output_type": "stream",
     "text": [
      "0.945520881851\n"
     ]
    }
   ],
   "source": [
    "show_score(regresion,wdbc)"
   ]
  },
  {
   "cell_type": "code",
   "execution_count": null,
   "metadata": {
    "collapsed": true
   },
   "outputs": [],
   "source": []
  }
 ],
 "metadata": {
  "kernelspec": {
   "display_name": "Python 3",
   "language": "python",
   "name": "python3"
  },
  "language_info": {
   "codemirror_mode": {
    "name": "ipython",
    "version": 3
   },
   "file_extension": ".py",
   "mimetype": "text/x-python",
   "name": "python",
   "nbconvert_exporter": "python",
   "pygments_lexer": "ipython3",
   "version": "3.5.2"
  }
 },
 "nbformat": 4,
 "nbformat_minor": 1
}
