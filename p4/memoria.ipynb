{
 "cells": [
  {
   "cell_type": "markdown",
   "metadata": {},
   "source": [
    "<h2>Apartado 1</h2>\n",
    "\n",
    "<p><strong>Efectividad del ensemble de  clasificadores  sobre  los  diferentes conjuntos de datos, comparada con los clasificadores individuales</strong></p>"
   ]
  },
  {
   "cell_type": "markdown",
   "metadata": {},
   "source": [
    "<table>\n",
    "<tr>\n",
    "<td></td>\n",
    "<th style=\"text-align:center\">KNN</th>\n",
    "<th style=\"text-align:center\">Naive-Bayes</th>\n",
    "<th style=\"text-align:center\">Multiclase</th>\n",
    "<th style=\"text-align:center\">Ensemble</th>\n",
    "</tr>\n",
    "<tr>\n",
    "<th style=\"text-align:center\">bank</th>\n",
    "<td>0.99</td>\n",
    "<td>0.55</td>\n",
    "<td>0.98</td>\n",
    "<td>0.99</td>\n",
    "</tr>\n",
    "<tr>\n",
    "<th style=\"text-align:center\">credit-approval</th>\n",
    "<td>0.833</td>\n",
    "<td>0.54</td>\n",
    "<td>0.68</td>\n",
    "<td>0.837</td>\n",
    "</tr>\n",
    "<tr>\n",
    "<th style=\"text-align:center\">wine</th>\n",
    "<td></td>\n",
    "<td></td>\n",
    "<td></td>\n",
    "<td>0.51</td>\n",
    "</tr>\n",
    "<tr>\n",
    "<th style=\"text-align:center\">digits</th>\n",
    "<td></td>\n",
    "<td></td>\n",
    "<td></td>\n",
    "<td></td>\n",
    "</tr>\n",
    "</table>"
   ]
  },
  {
   "cell_type": "markdown",
   "metadata": {},
   "source": [
    "\n",
    "<strong>Acerca de los conjuntos utilizados</strong>\n",
    "<p>El conjunto de datos bank pretende se puede encontrar más información <a href=\"https://archive.ics.uci.edu/ml/datasets/banknote+authentication\">aquí</a></p> \n",
    "<p>En el conjunto de datos iris se trata de clasificar el iris de una planta en función de atributos físicos de la misma. Para más información, consultar <a href=\"https://archive.ics.uci.edu/ml/datasets/Iris\">aquí</a> </p>\n",
    "<p>En el tercer conjunto vamos a tratar de realizar diagnósticos de reparación sobre un motor en función de la información de sus sensores. Para más detalle, consultar su referencia dentro del repositorio se encuentra <a href=\"https://archive.ics.uci.edu/ml/datasets/Dataset+for+Sensorless+Drive+Diagnosis\"> aquí</a></p>\n"
   ]
  },
  {
   "cell_type": "code",
   "execution_count": null,
   "metadata": {
    "collapsed": true
   },
   "outputs": [],
   "source": []
  }
 ],
 "metadata": {
  "kernelspec": {
   "display_name": "Python 3",
   "language": "python",
   "name": "python3"
  },
  "language_info": {
   "codemirror_mode": {
    "name": "ipython",
    "version": 3
   },
   "file_extension": ".py",
   "mimetype": "text/x-python",
   "name": "python",
   "nbconvert_exporter": "python",
   "pygments_lexer": "ipython3",
   "version": "3.5.2"
  }
 },
 "nbformat": 4,
 "nbformat_minor": 2
}
