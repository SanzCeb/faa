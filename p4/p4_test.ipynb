{
 "cells": [
  {
   "cell_type": "code",
   "execution_count": 18,
   "metadata": {
    "collapsed": false
   },
   "outputs": [],
   "source": [
    "from ClasificadorKNN import ClasificadorKNN\n",
    "from ClasificadorRegresionLogistica import ClasificadorRegresionLogistica\n",
    "from ClasificadorNaiveBayes import ClasificadorNaiveBayes\n",
    "from ClasificadorEnsemble import ClasificadorEnsemble\n",
    "from ClasificadorMulticlase import ClasificadorMulticlase\n",
    "from Clasificador import Clasificador\n",
    "from datos import Datos \n",
    "from EstrategiaParticionado import ValidacionCruzada\n",
    "import numpy as np "
   ]
  },
  {
   "cell_type": "code",
   "execution_count": 19,
   "metadata": {
    "collapsed": true
   },
   "outputs": [],
   "source": [
    "particionado = ValidacionCruzada(5)"
   ]
  },
  {
   "cell_type": "code",
   "execution_count": 20,
   "metadata": {
    "collapsed": false
   },
   "outputs": [],
   "source": [
    "wine_proc = Datos('../ficheros/ConjuntosDatos/wine_proc.data',True)\n",
    "wdbc = Datos('../ficheros/ConjuntosDatos/wdbc.data',True)\n",
    "crx = Datos('../ficheros/ConjuntosDatos/crx_clean.data',True)\n",
    "bank = Datos('../ficheros/ConjuntosDatos/data_banknote_authentication.data',True)"
   ]
  },
  {
   "cell_type": "code",
   "execution_count": 22,
   "metadata": {
    "collapsed": false
   },
   "outputs": [],
   "source": [
    "KNN = ClasificadorKNN(5)\n",
    "RegresionLogistica = ClasificadorRegresionLogistica(1000, 0.01)\n",
    "NaiveBayes = ClasificadorNaiveBayes()\n",
    "multiclase = ClasificadorMulticlase(RegresionLogistica)"
   ]
  },
  {
   "cell_type": "code",
   "execution_count": 23,
   "metadata": {
    "collapsed": true
   },
   "outputs": [],
   "source": [
    "ensemble = ClasificadorEnsemble([KNN, NaiveBayes, multiclase])"
   ]
  },
  {
   "cell_type": "code",
   "execution_count": 24,
   "metadata": {
    "collapsed": false
   },
   "outputs": [
    {
     "name": "stdout",
     "output_type": "stream",
     "text": [
      "Particion clasificada\n",
      "Particion clasificada\n",
      "Particion clasificada\n",
      "Particion clasificada\n",
      "Particion clasificada\n",
      "0.412030075188\n"
     ]
    }
   ],
   "source": [
    "errores = multiclase.validacion(particionado, wine_proc, ensemble)\n",
    "print(1 - np.mean(errores))"
   ]
  },
  {
   "cell_type": "code",
   "execution_count": 25,
   "metadata": {
    "collapsed": false
   },
   "outputs": [
    {
     "name": "stdout",
     "output_type": "stream",
     "text": [
      "Particion clasificada\n",
      "Particion clasificada\n",
      "Particion clasificada\n",
      "Particion clasificada\n",
      "Particion clasificada\n",
      "0.837547715442\n"
     ]
    }
   ],
   "source": [
    "errores = multiclase.validacion(particionado, crx, ensemble)\n",
    "print(1 - np.mean(errores))"
   ]
  },
  {
   "cell_type": "code",
   "execution_count": 27,
   "metadata": {
    "collapsed": false
   },
   "outputs": [
    {
     "name": "stdout",
     "output_type": "stream",
     "text": [
      "Particion clasificada\n",
      "Particion clasificada\n",
      "Particion clasificada\n",
      "Particion clasificada\n",
      "Particion clasificada\n",
      "0.998540145985\n"
     ]
    }
   ],
   "source": [
    "errores = multiclase.validacion(particionado, bank, ensemble)\n",
    "print(1 - np.mean(errores))"
   ]
  },
  {
   "cell_type": "code",
   "execution_count": 28,
   "metadata": {
    "collapsed": false
   },
   "outputs": [
    {
     "name": "stdout",
     "output_type": "stream",
     "text": [
      "Particion clasificada\n",
      "Particion clasificada\n",
      "Particion clasificada\n",
      "Particion clasificada\n",
      "Particion clasificada\n"
     ]
    }
   ],
   "source": [
    "errores = multiclase.validacion(particionado, wdbc, ensemble)"
   ]
  },
  {
   "cell_type": "code",
   "execution_count": 29,
   "metadata": {
    "collapsed": false
   },
   "outputs": [
    {
     "name": "stdout",
     "output_type": "stream",
     "text": [
      "0.9702140534\n"
     ]
    }
   ],
   "source": [
    "print(1 - np.mean(errores))"
   ]
  },
  {
   "cell_type": "code",
   "execution_count": 30,
   "metadata": {
    "collapsed": false
   },
   "outputs": [
    {
     "name": "stdout",
     "output_type": "stream",
     "text": [
      "Particion clasificada\n",
      "Particion clasificada\n",
      "Particion clasificada\n",
      "Particion clasificada\n",
      "Particion clasificada\n",
      "0.998540145985\n"
     ]
    }
   ],
   "source": [
    "errores = multiclase.validacion(particionado, bank, KNN)\n",
    "print(1 - np.mean(errores))"
   ]
  },
  {
   "cell_type": "code",
   "execution_count": 31,
   "metadata": {
    "collapsed": false
   },
   "outputs": [
    {
     "name": "stdout",
     "output_type": "stream",
     "text": [
      "Particion clasificada\n",
      "Particion clasificada\n",
      "Particion clasificada\n",
      "Particion clasificada\n",
      "Particion clasificada\n",
      "0.555368666032\n"
     ]
    }
   ],
   "source": [
    "errores = multiclase.validacion(particionado, bank, NaiveBayes)\n",
    "print(1 - np.mean(errores))"
   ]
  },
  {
   "cell_type": "code",
   "execution_count": 32,
   "metadata": {
    "collapsed": false
   },
   "outputs": [
    {
     "name": "stdout",
     "output_type": "stream",
     "text": [
      "Particion clasificada\n",
      "Particion clasificada\n",
      "Particion clasificada\n",
      "Particion clasificada\n",
      "Particion clasificada\n",
      "0.444636623294\n"
     ]
    }
   ],
   "source": [
    "errores = multiclase.validacion(particionado, bank, multiclase)\n",
    "print(1 - np.mean(errores))"
   ]
  },
  {
   "cell_type": "code",
   "execution_count": null,
   "metadata": {
    "collapsed": true
   },
   "outputs": [],
   "source": []
  }
 ],
 "metadata": {
  "kernelspec": {
   "display_name": "Python 3",
   "language": "python",
   "name": "python3"
  },
  "language_info": {
   "codemirror_mode": {
    "name": "ipython",
    "version": 3
   },
   "file_extension": ".py",
   "mimetype": "text/x-python",
   "name": "python",
   "nbconvert_exporter": "python",
   "pygments_lexer": "ipython3",
   "version": "3.5.2"
  }
 },
 "nbformat": 4,
 "nbformat_minor": 1
}
