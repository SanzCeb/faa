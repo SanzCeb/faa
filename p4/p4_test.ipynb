{
 "cells": [
  {
   "cell_type": "code",
   "execution_count": 1,
   "metadata": {
    "collapsed": false
   },
   "outputs": [],
   "source": [
    "from ClasificadorKNN import ClasificadorKNN\n",
    "from ClasificadorRegresionLogistica import ClasificadorRegresionLogistica\n",
    "from ClasificadorNaiveBayes import ClasificadorNaiveBayes\n",
    "from ClasificadorEnsemble import ClasificadorEnsemble\n",
    "from ClasificadorMulticlase import ClasificadorMulticlase\n",
    "from Clasificador import Clasificador\n",
    "from datos import Datos\n",
    "from EstrategiaParticionado import ValidacionCruzada\n",
    "import numpy as np "
   ]
  },
  {
   "cell_type": "code",
   "execution_count": 2,
   "metadata": {
    "collapsed": true
   },
   "outputs": [],
   "source": [
    "particionado = ValidacionCruzada(5)"
   ]
  },
  {
   "cell_type": "code",
   "execution_count": 3,
   "metadata": {
    "collapsed": false
   },
   "outputs": [],
   "source": [
    "wine_proc = Datos('../ficheros/ConjuntosDatos/wine_proc.data',True)\n",
    "wdbc = Datos('../ficheros/ConjuntosDatos/wdbc.data',True)\n",
    "crx = Datos('../ficheros/ConjuntosDatos/crx_clean.data',True)\n",
    "bank = Datos('../ficheros/ConjuntosDatos/data_banknote_authentication.data',True)\n",
    "example3 = Datos('../ficheros/ConjuntosDatos/example3.data', True)\n",
    "example4 = Datos('../ficheros/ConjuntosDatos/example4.data',True)"
   ]
  },
  {
   "cell_type": "code",
   "execution_count": 4,
   "metadata": {
    "collapsed": false
   },
   "outputs": [],
   "source": [
    "KNN = ClasificadorKNN(5)\n",
    "RegresionLogistica = ClasificadorRegresionLogistica(1000, 0.01)\n",
    "NaiveBayes = ClasificadorNaiveBayes()\n",
    "multiclase = ClasificadorMulticlase(RegresionLogistica)"
   ]
  },
  {
   "cell_type": "code",
   "execution_count": 5,
   "metadata": {
    "collapsed": true
   },
   "outputs": [],
   "source": [
    "ensemble = ClasificadorEnsemble([KNN, NaiveBayes, multiclase])"
   ]
  },
  {
   "cell_type": "code",
   "execution_count": 6,
   "metadata": {
    "collapsed": false
   },
   "outputs": [
    {
     "name": "stdout",
     "output_type": "stream",
     "text": [
      "Particion clasificada\n",
      "Particion clasificada\n",
      "Particion clasificada\n",
      "Particion clasificada\n",
      "Particion clasificada\n",
      "0.513984962406\n"
     ]
    }
   ],
   "source": [
    "errores = multiclase.validacion(particionado, wine_proc, ensemble)\n",
    "print(1 - np.mean(errores))"
   ]
  },
  {
   "cell_type": "code",
   "execution_count": 25,
   "metadata": {
    "collapsed": false
   },
   "outputs": [
    {
     "name": "stdout",
     "output_type": "stream",
     "text": [
      "Particion clasificada\n",
      "Particion clasificada\n",
      "Particion clasificada\n",
      "Particion clasificada\n",
      "Particion clasificada\n",
      "0.837547715442\n"
     ]
    }
   ],
   "source": [
    "errores = multiclase.validacion(particionado, crx, ensemble)\n",
    "print(1 - np.mean(errores))"
   ]
  },
  {
   "cell_type": "code",
   "execution_count": 27,
   "metadata": {
    "collapsed": false
   },
   "outputs": [
    {
     "name": "stdout",
     "output_type": "stream",
     "text": [
      "Particion clasificada\n",
      "Particion clasificada\n",
      "Particion clasificada\n",
      "Particion clasificada\n",
      "Particion clasificada\n",
      "0.998540145985\n"
     ]
    }
   ],
   "source": [
    "errores = multiclase.validacion(particionado, bank, ensemble)\n",
    "print(1 - np.mean(errores))"
   ]
  },
  {
   "cell_type": "code",
   "execution_count": 8,
   "metadata": {
    "collapsed": false
   },
   "outputs": [
    {
     "name": "stdout",
     "output_type": "stream",
     "text": [
      "Particion clasificada\n",
      "Particion clasificada\n",
      "Particion clasificada\n",
      "Particion clasificada\n",
      "Particion clasificada\n",
      "0.898131760079\n"
     ]
    }
   ],
   "source": [
    "errores = multiclase.validacion(particionado, wdbc, RegresionLogistica)\n",
    "print(1 - np.mean(errores))"
   ]
  },
  {
   "cell_type": "code",
   "execution_count": 9,
   "metadata": {
    "collapsed": false
   },
   "outputs": [
    {
     "name": "stdout",
     "output_type": "stream",
     "text": [
      "Particion clasificada\n",
      "Particion clasificada\n",
      "Particion clasificada\n",
      "Particion clasificada\n",
      "Particion clasificada\n",
      "0.8790257923\n"
     ]
    }
   ],
   "source": [
    "errores = multiclase.validacion(particionado, wdbc, multiclase)\n",
    "print(1 - np.mean(errores))"
   ]
  },
  {
   "cell_type": "code",
   "execution_count": 30,
   "metadata": {
    "collapsed": false
   },
   "outputs": [
    {
     "name": "stdout",
     "output_type": "stream",
     "text": [
      "Particion clasificada\n",
      "Particion clasificada\n",
      "Particion clasificada\n",
      "Particion clasificada\n",
      "Particion clasificada\n",
      "0.998540145985\n"
     ]
    }
   ],
   "source": [
    "errores = multiclase.validacion(particionado, bank, KNN)\n",
    "print(1 - np.mean(errores))"
   ]
  },
  {
   "cell_type": "code",
   "execution_count": 31,
   "metadata": {
    "collapsed": false
   },
   "outputs": [
    {
     "name": "stdout",
     "output_type": "stream",
     "text": [
      "Particion clasificada\n",
      "Particion clasificada\n",
      "Particion clasificada\n",
      "Particion clasificada\n",
      "Particion clasificada\n",
      "0.555368666032\n"
     ]
    }
   ],
   "source": [
    "errores = multiclase.validacion(particionado, bank, NaiveBayes)\n",
    "print(1 - np.mean(errores))"
   ]
  },
  {
   "cell_type": "code",
   "execution_count": 11,
   "metadata": {
    "collapsed": false
   },
   "outputs": [
    {
     "name": "stdout",
     "output_type": "stream",
     "text": [
      "Particion clasificada\n",
      "Particion clasificada\n",
      "Particion clasificada\n",
      "Particion clasificada\n",
      "Particion clasificada\n",
      "0.989061673543\n"
     ]
    }
   ],
   "source": [
    "errores = multiclase.validacion(particionado, bank, multiclase)\n",
    "print(1 - np.mean(errores))"
   ]
  },
  {
   "cell_type": "code",
   "execution_count": 10,
   "metadata": {
    "collapsed": false
   },
   "outputs": [
    {
     "name": "stdout",
     "output_type": "stream",
     "text": [
      "Particion clasificada\n",
      "Particion clasificada\n",
      "Particion clasificada\n",
      "Particion clasificada\n",
      "Particion clasificada\n",
      "0.989072252195\n"
     ]
    }
   ],
   "source": [
    "errores = multiclase.validacion(particionado, bank, multiclase)\n",
    "print(1 - np.mean(errores))"
   ]
  },
  {
   "cell_type": "code",
   "execution_count": 9,
   "metadata": {
    "collapsed": false
   },
   "outputs": [
    {
     "name": "stdout",
     "output_type": "stream",
     "text": [
      "Particion clasificada\n",
      "Particion clasificada\n",
      "Particion clasificada\n",
      "Particion clasificada\n",
      "Particion clasificada\n",
      "0.576992481203\n"
     ]
    }
   ],
   "source": [
    "errores = multiclase.validacion(particionado, wine_proc, multiclase)\n",
    "print(1 - np.mean(errores))"
   ]
  },
  {
   "cell_type": "code",
   "execution_count": 8,
   "metadata": {
    "collapsed": false
   },
   "outputs": [
    {
     "name": "stdout",
     "output_type": "stream",
     "text": [
      "Particion clasificada\n",
      "Particion clasificada\n",
      "Particion clasificada\n",
      "Particion clasificada\n",
      "Particion clasificada\n",
      "1.0\n"
     ]
    }
   ],
   "source": [
    "errores = RegresionLogistica.validacion(particionado, example4, multiclase)\n",
    "print(1 - np.mean(errores))"
   ]
  },
  {
   "cell_type": "code",
   "execution_count": 7,
   "metadata": {
    "collapsed": false
   },
   "outputs": [
    {
     "name": "stdout",
     "output_type": "stream",
     "text": [
      "Particion clasificada\n",
      "Particion clasificada\n",
      "Particion clasificada\n",
      "Particion clasificada\n",
      "Particion clasificada\n",
      "0.505\n"
     ]
    }
   ],
   "source": [
    "errores = RegresionLogistica.validacion(particionado, example3, multiclase)\n",
    "print(1 - np.mean(errores))"
   ]
  },
  {
   "cell_type": "code",
   "execution_count": null,
   "metadata": {
    "collapsed": true
   },
   "outputs": [],
   "source": []
  }
 ],
 "metadata": {
  "anaconda-cloud": {},
  "kernelspec": {
   "display_name": "Python 3",
   "language": "python",
   "name": "python3"
  },
  "language_info": {
   "codemirror_mode": {
    "name": "ipython",
    "version": 3
   },
   "file_extension": ".py",
   "mimetype": "text/x-python",
   "name": "python",
   "nbconvert_exporter": "python",
   "pygments_lexer": "ipython3",
   "version": "3.5.2"
  }
 },
 "nbformat": 4,
 "nbformat_minor": 1
}
