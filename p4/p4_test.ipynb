{
 "cells": [
  {
   "cell_type": "code",
   "execution_count": 1,
   "metadata": {
    "collapsed": false
   },
   "outputs": [],
   "source": [
    "from ClasificadorKNN import ClasificadorKNN\n",
    "from ClasificadorRegresionLogistica import ClasificadorRegresionLogistica\n",
    "from ClasificadorNaiveBayes import ClasificadorNaiveBayes\n",
    "from ClasificadorEnsemble import ClasificadorEnsemble\n",
    "from Clasificador import Clasificador\n",
    "from datos import Datos \n",
    "from EstrategiaParticionado import ValidacionCruzada\n",
    "import numpy as np "
   ]
  },
  {
   "cell_type": "code",
   "execution_count": 2,
   "metadata": {
    "collapsed": true
   },
   "outputs": [],
   "source": [
    "particionado = ValidacionCruzada(5)"
   ]
  },
  {
   "cell_type": "code",
   "execution_count": 6,
   "metadata": {
    "collapsed": false
   },
   "outputs": [],
   "source": [
    "example2 = Datos('../ficheros/ConjuntosDatos/tic-tac-toe.data', True)"
   ]
  },
  {
   "cell_type": "code",
   "execution_count": 7,
   "metadata": {
    "collapsed": false
   },
   "outputs": [],
   "source": [
    "KNN = ClasificadorKNN(3)\n",
    "RegresionLogistica = ClasificadorRegresionLogistica(100, 0.01)\n",
    "NaiveBayes = ClasificadorNaiveBayes()\n",
    "ensemble = ClasificadorEnsemble([KNN,RegresionLogistica,NaiveBayes])"
   ]
  },
  {
   "cell_type": "code",
   "execution_count": 8,
   "metadata": {
    "collapsed": false
   },
   "outputs": [
    {
     "name": "stdout",
     "output_type": "stream",
     "text": [
      "Particion clasificada\n",
      "Particion clasificada\n",
      "Particion clasificada\n",
      "Particion clasificada\n",
      "Particion clasificada\n",
      "0.677476115939\n"
     ]
    }
   ],
   "source": [
    "errores = ensemble.validacion(particionado,example2, ensemble)\n",
    "print(1 - np.mean(errores))"
   ]
  },
  {
   "cell_type": "code",
   "execution_count": null,
   "metadata": {
    "collapsed": true
   },
   "outputs": [],
   "source": []
  }
 ],
 "metadata": {
  "kernelspec": {
   "display_name": "Python 3",
   "language": "python",
   "name": "python3"
  },
  "language_info": {
   "codemirror_mode": {
    "name": "ipython",
    "version": 3
   },
   "file_extension": ".py",
   "mimetype": "text/x-python",
   "name": "python",
   "nbconvert_exporter": "python",
   "pygments_lexer": "ipython3",
   "version": "3.5.2"
  }
 },
 "nbformat": 4,
 "nbformat_minor": 1
}
