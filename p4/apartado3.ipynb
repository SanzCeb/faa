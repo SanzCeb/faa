{
 "cells": [
  {
   "cell_type": "code",
   "execution_count": 1,
   "metadata": {
    "collapsed": true
   },
   "outputs": [],
   "source": [
    "from sklearn.metrics import confusion_matrix\n",
    "from ClasificadorKNN import ClasificadorKNN\n",
    "from ClasificadorRegresionLogistica import ClasificadorRegresionLogistica\n",
    "from ClasificadorNaiveBayes import ClasificadorNaiveBayes\n",
    "from ClasificadorEnsemble import ClasificadorEnsemble\n",
    "from ClasificadorMulticlase import ClasificadorMulticlase\n",
    "from Clasificador import Clasificador\n",
    "from datos import Datos\n",
    "from EstrategiaParticionado import ValidacionCruzada\n",
    "import numpy as np "
   ]
  },
  {
   "cell_type": "code",
   "execution_count": 2,
   "metadata": {
    "collapsed": true
   },
   "outputs": [],
   "source": [
    "particionado = ValidacionCruzada(5)\n",
    "digits = Datos('../ficheros/ConjuntosDatos/digits.data',True)\n",
    "example4 = Datos('../ficheros/ConjuntosDatos/example4.data',True)"
   ]
  },
  {
   "cell_type": "code",
   "execution_count": 3,
   "metadata": {
    "collapsed": true
   },
   "outputs": [],
   "source": [
    "knn = ClasificadorKNN(3)\n",
    "lr = ClasificadorRegresionLogistica(1000,0.001)\n",
    "nb = ClasificadorNaiveBayes()\n",
    "ml = ClasificadorMulticlase(lr)\n",
    "ensemble = ClasificadorEnsemble(clasificadores=[knn,nb,ml])"
   ]
  },
  {
   "cell_type": "code",
   "execution_count": 13,
   "metadata": {
    "collapsed": true
   },
   "outputs": [],
   "source": [
    "def matriz_confusion(clf,dataset):\n",
    "    clf.entrenamiento(dataset.datos, dataset.nominalAtributos, dataset.diccionarios)\n",
    "    preds = clf.clasifica(dataset.datos[:,:-1], dataset.nominalAtributos, dataset.diccionarios)\n",
    "    return confusion_matrix(dataset.datos[:,-1],preds, list(dataset.diccionarios[-1].values()))\n",
    "    "
   ]
  },
  {
   "cell_type": "code",
   "execution_count": 16,
   "metadata": {
    "collapsed": false
   },
   "outputs": [
    {
     "data": {
      "text/plain": [
       "array([[85,  0,  0,  0,  0,  2,  0,  0,  5,  2],\n",
       "       [ 2, 90,  0,  2,  0,  0,  0,  0,  0,  0],\n",
       "       [13,  5,  0, 45,  0,  1,  4, 23,  1,  2],\n",
       "       [ 3,  1,  0, 85,  1,  1,  2,  1,  0,  0],\n",
       "       [ 0,  0,  0, 91,  1,  0,  1,  0,  0,  1],\n",
       "       [ 8, 21,  0,  3,  0, 49,  4,  8,  0,  1],\n",
       "       [ 3,  0,  0, 11,  0,  0, 70,  7,  2,  1],\n",
       "       [ 0, 20,  0,  9,  0,  0,  0, 64,  0,  1],\n",
       "       [27, 10,  0,  4,  0,  0,  1,  0, 52,  0],\n",
       "       [ 4,  0,  0,  6,  0,  2,  0,  1,  1, 80]])"
      ]
     },
     "execution_count": 16,
     "metadata": {},
     "output_type": "execute_result"
    }
   ],
   "source": [
    "\n",
    "matriz_confusion(ensemble,digits)"
   ]
  },
  {
   "cell_type": "code",
   "execution_count": 8,
   "metadata": {
    "collapsed": false
   },
   "outputs": [
    {
     "name": "stdout",
     "output_type": "stream",
     "text": [
      "[0, 1]\n"
     ]
    }
   ],
   "source": [
    "print(list(example4.diccionarios[-1].values()))"
   ]
  },
  {
   "cell_type": "code",
   "execution_count": null,
   "metadata": {
    "collapsed": true
   },
   "outputs": [],
   "source": []
  }
 ],
 "metadata": {
  "kernelspec": {
   "display_name": "Python 3",
   "language": "python",
   "name": "python3"
  },
  "language_info": {
   "codemirror_mode": {
    "name": "ipython",
    "version": 3
   },
   "file_extension": ".py",
   "mimetype": "text/x-python",
   "name": "python",
   "nbconvert_exporter": "python",
   "pygments_lexer": "ipython3",
   "version": "3.5.2"
  }
 },
 "nbformat": 4,
 "nbformat_minor": 1
}
