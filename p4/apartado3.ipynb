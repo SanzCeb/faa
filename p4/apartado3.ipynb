{
 "cells": [
  {
   "cell_type": "code",
   "execution_count": 2,
   "metadata": {
    "collapsed": true
   },
   "outputs": [],
   "source": [
    "from sklearn.metrics import confusion_matrix\n",
    "from ClasificadorKNN import ClasificadorKNN\n",
    "from ClasificadorRegresionLogistica import ClasificadorRegresionLogistica\n",
    "from ClasificadorNaiveBayes import ClasificadorNaiveBayes\n",
    "from ClasificadorEnsemble import ClasificadorEnsemble\n",
    "from ClasificadorMulticlase import ClasificadorMulticlase\n",
    "from Clasificador import Clasificador\n",
    "from datos import Datos\n",
    "from EstrategiaParticionado import ValidacionCruzada\n",
    "import numpy as np "
   ]
  },
  {
   "cell_type": "code",
   "execution_count": 13,
   "metadata": {
    "collapsed": false
   },
   "outputs": [],
   "source": [
    "estrategia = ValidacionCruzada(5)\n",
    "digits = Datos('../ficheros/ConjuntosDatos/digits.data',True)\n",
    "example4 = Datos('../ficheros/ConjuntosDatos/example4.data',True)"
   ]
  },
  {
   "cell_type": "code",
   "execution_count": 6,
   "metadata": {
    "collapsed": true
   },
   "outputs": [],
   "source": [
    "knn = ClasificadorKNN(3)\n",
    "lr = ClasificadorRegresionLogistica(1000,0.001)\n",
    "nb = ClasificadorNaiveBayes()\n",
    "ml = ClasificadorMulticlase(lr)\n",
    "ensemble = ClasificadorEnsemble(clasificadores=[knn,nb,ml])"
   ]
  },
  {
   "cell_type": "code",
   "execution_count": 14,
   "metadata": {
    "collapsed": false
   },
   "outputs": [],
   "source": [
    "def matriz_confusion(clf,dataset):\n",
    "    particionado = estrategia.creaParticiones(dataset)\n",
    "    datos_train = dataset.extraeDatosTrain(particionado[-1])\n",
    "    clf.entrenamiento(datos_train, dataset.nominalAtributos, dataset.diccionarios)\n",
    "    datos_test = dataset.extraeDatosTest(particionado[-1])\n",
    "    preds = clf.clasifica(datos_test[:,:-1], dataset.nominalAtributos, dataset.diccionarios)\n",
    "    \n",
    "    return confusion_matrix(datos_test[:,-1],preds, list(dataset.diccionarios[-1].values()))\n",
    "    "
   ]
  },
  {
   "cell_type": "markdown",
   "metadata": {},
   "source": [
    "<h2>Apartado 4</h2>\n",
    "\n",
    "<p>\n",
    "<strong>\n",
    "Obtener la matriz de confusión para el conjunto digits usando el ensemble\n",
    "</strong>\n",
    "</p>"
   ]
  },
  {
   "cell_type": "code",
   "execution_count": 15,
   "metadata": {
    "collapsed": false
   },
   "outputs": [
    {
     "data": {
      "text/plain": [
       "array([[ 6,  0, 13,  0,  0,  0,  0,  0,  0,  0],\n",
       "       [ 0,  0, 15,  0,  0,  2,  1,  0,  4,  0],\n",
       "       [ 1,  0, 23,  0,  0,  0,  0,  0,  0,  0],\n",
       "       [ 0,  0, 10,  2,  3,  1,  1,  0,  0,  0],\n",
       "       [ 0,  0,  1,  0, 22,  0,  0,  0,  0,  0],\n",
       "       [ 0,  0,  1,  0,  0,  7,  2,  0,  2,  0],\n",
       "       [ 0,  0,  5,  0,  0,  0,  7,  0,  0,  0],\n",
       "       [ 1,  0,  4,  0,  0,  1,  0, 10,  1,  0],\n",
       "       [ 1,  0,  4,  0,  0,  2,  2,  0,  6,  0],\n",
       "       [ 0,  0, 26,  0,  0,  0,  0,  0,  1,  0]])"
      ]
     },
     "execution_count": 15,
     "metadata": {},
     "output_type": "execute_result"
    }
   ],
   "source": [
    "\n",
    "matriz_confusion(ensemble,digits)"
   ]
  },
  {
   "cell_type": "markdown",
   "metadata": {
    "collapsed": true
   },
   "source": [
    "<p><strong>Determinar qué dígitos son más difíciles de clasificar en general</strong></p>\n",
    "\n",
    "<p></p>"
   ]
  },
  {
   "cell_type": "code",
   "execution_count": null,
   "metadata": {
    "collapsed": true
   },
   "outputs": [],
   "source": []
  }
 ],
 "metadata": {
  "kernelspec": {
   "display_name": "Python 3",
   "language": "python",
   "name": "python3"
  },
  "language_info": {
   "codemirror_mode": {
    "name": "ipython",
    "version": 3
   },
   "file_extension": ".py",
   "mimetype": "text/x-python",
   "name": "python",
   "nbconvert_exporter": "python",
   "pygments_lexer": "ipython3",
   "version": "3.5.2"
  }
 },
 "nbformat": 4,
 "nbformat_minor": 1
}
