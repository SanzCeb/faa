{
 "cells": [
  {
   "cell_type": "code",
   "execution_count": 1,
   "metadata": {
    "collapsed": true
   },
   "outputs": [],
   "source": [
    "from ClasificadorPittsburgh import ClasificadorPittsburgh\n",
    "from datos import Datos\n",
    "from EstrategiaParticionado import ValidacionCruzada\n",
    "import numpy as np \n"
   ]
  },
  {
   "cell_type": "code",
   "execution_count": 2,
   "metadata": {
    "collapsed": true
   },
   "outputs": [],
   "source": [
    "TAM_POBLACION = 10\n",
    "PROB_CRUCE = 0.6\n",
    "PROB_MUTACION = 0.01\n",
    "TASA_ELITISMO = 0.05\n",
    "NUM_GENERACIONES = 100\n"
   ]
  },
  {
   "cell_type": "code",
   "execution_count": 3,
   "metadata": {
    "collapsed": true
   },
   "outputs": [],
   "source": [
    "estrategia = ValidacionCruzada(5)\n"
   ]
  },
  {
   "cell_type": "code",
   "execution_count": 4,
   "metadata": {
    "collapsed": false
   },
   "outputs": [],
   "source": [
    "tic_tac_toe = Datos(\"../ficheros/ConjuntosDatos/tic-tac-toe.data\", True)\n",
    "example2 = Datos(\"../ficheros/ConjuntosDatos/example2.data\",True)\n",
    "titanic = Datos(\"../ficheros/ConjuntosDatos/titanic.data\",True)"
   ]
  },
  {
   "cell_type": "code",
   "execution_count": 5,
   "metadata": {
    "collapsed": false
   },
   "outputs": [
    {
     "data": {
      "text/plain": [
       "array([[[ 1.,  1.,  0.],\n",
       "        [ 0.,  0.,  0.],\n",
       "        [ 0.,  1.,  1.],\n",
       "        ..., \n",
       "        [ 1.,  1.,  0.],\n",
       "        [ 0.,  1.,  1.],\n",
       "        [ 1.,  1.,  0.]],\n",
       "\n",
       "       [[ 0.,  0.,  1.],\n",
       "        [ 1.,  1.,  1.],\n",
       "        [ 1.,  0.,  0.],\n",
       "        ..., \n",
       "        [ 0.,  0.,  1.],\n",
       "        [ 1.,  0.,  0.],\n",
       "        [ 0.,  0.,  1.]]])"
      ]
     },
     "execution_count": 5,
     "metadata": {},
     "output_type": "execute_result"
    }
   ],
   "source": [
    "example2.datos"
   ]
  },
  {
   "cell_type": "code",
   "execution_count": 6,
   "metadata": {
    "collapsed": false
   },
   "outputs": [
    {
     "data": {
      "text/plain": [
       "(1046, 4)"
      ]
     },
     "execution_count": 6,
     "metadata": {},
     "output_type": "execute_result"
    }
   ],
   "source": [
    "titanic.datos.shape"
   ]
  },
  {
   "cell_type": "code",
   "execution_count": 7,
   "metadata": {
    "collapsed": false
   },
   "outputs": [
    {
     "data": {
      "text/plain": [
       "(958, 10)"
      ]
     },
     "execution_count": 7,
     "metadata": {},
     "output_type": "execute_result"
    }
   ],
   "source": [
    "tic_tac_toe.datos.shape"
   ]
  },
  {
   "cell_type": "code",
   "execution_count": 8,
   "metadata": {
    "collapsed": false
   },
   "outputs": [
    {
     "data": {
      "text/plain": [
       "array([[array([ 1.,  0.,  0.]), array([ 1.,  0.,  0.]),\n",
       "        array([ 1.,  0.,  0.]), ..., array([ 0.,  1.,  0.]),\n",
       "        array([ 0.,  1.,  0.]), array([ 1.,  0.])],\n",
       "       [array([ 1.,  0.,  0.]), array([ 1.,  0.,  0.]),\n",
       "        array([ 1.,  0.,  0.]), ..., array([ 1.,  0.,  0.]),\n",
       "        array([ 0.,  1.,  0.]), array([ 1.,  0.])],\n",
       "       [array([ 1.,  0.,  0.]), array([ 1.,  0.,  0.]),\n",
       "        array([ 1.,  0.,  0.]), ..., array([ 0.,  1.,  0.]),\n",
       "        array([ 1.,  0.,  0.]), array([ 1.,  0.])],\n",
       "       ..., \n",
       "       [array([ 0.,  1.,  0.]), array([ 1.,  0.,  0.]),\n",
       "        array([ 0.,  1.,  0.]), ..., array([ 0.,  1.,  0.]),\n",
       "        array([ 1.,  0.,  0.]), array([ 0.,  1.])],\n",
       "       [array([ 0.,  1.,  0.]), array([ 1.,  0.,  0.]),\n",
       "        array([ 0.,  1.,  0.]), ..., array([ 0.,  1.,  0.]),\n",
       "        array([ 1.,  0.,  0.]), array([ 0.,  1.])],\n",
       "       [array([ 0.,  1.,  0.]), array([ 0.,  1.,  0.]),\n",
       "        array([ 1.,  0.,  0.]), ..., array([ 1.,  0.,  0.]),\n",
       "        array([ 1.,  0.,  0.]), array([ 0.,  1.])]], dtype=object)"
      ]
     },
     "execution_count": 8,
     "metadata": {},
     "output_type": "execute_result"
    }
   ],
   "source": [
    "tic_tac_toe.datos"
   ]
  },
  {
   "cell_type": "code",
   "execution_count": 9,
   "metadata": {
    "collapsed": false
   },
   "outputs": [],
   "source": [
    "clasificador = ClasificadorPittsburgh(PROB_CRUCE, \n",
    "                                      PROB_MUTACION,\n",
    "                                      TASA_ELITISMO,\n",
    "                                      TAM_POBLACION,\n",
    "                                      NUM_GENERACIONES)\n",
    "#errores = clasificador.validacion(estrategia, tic_tac_toe, clasificador)\n",
    "#print( \"Tasa de acierto  = \", 1 - np.mean(errores))"
   ]
  },
  {
   "cell_type": "code",
   "execution_count": null,
   "metadata": {
    "collapsed": false
   },
   "outputs": [],
   "source": [
    "print(1 - np.mean(clasificador.validacion(estrategia, tic_tac_toe, clasificador)))\n"
   ]
  },
  {
   "cell_type": "code",
   "execution_count": null,
   "metadata": {
    "collapsed": true
   },
   "outputs": [],
   "source": [
    "print(1 - np.mean(clasificador.validacion(estrategia, titanic, clasificador)))"
   ]
  },
  {
   "cell_type": "code",
   "execution_count": null,
   "metadata": {
    "collapsed": true
   },
   "outputs": [],
   "source": []
  }
 ],
 "metadata": {
  "anaconda-cloud": {},
  "kernelspec": {
   "display_name": "Python [default]",
   "language": "python",
   "name": "python3"
  },
  "language_info": {
   "codemirror_mode": {
    "name": "ipython",
    "version": 3
   },
   "file_extension": ".py",
   "mimetype": "text/x-python",
   "name": "python",
   "nbconvert_exporter": "python",
   "pygments_lexer": "ipython3",
   "version": "3.5.2"
  }
 },
 "nbformat": 4,
 "nbformat_minor": 1
}
