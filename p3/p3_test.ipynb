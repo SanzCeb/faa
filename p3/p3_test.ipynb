{
 "cells": [
  {
   "cell_type": "code",
   "execution_count": 5,
   "metadata": {
    "collapsed": true
   },
   "outputs": [],
   "source": [
    "from ClasificadorPittsburgh import ClasificadorPittsburgh\n",
    "from datos import Datos\n",
    "from EstrategiaParticionado import ValidacionCruzada\n",
    "import numpy as np \n"
   ]
  },
  {
   "cell_type": "code",
   "execution_count": 6,
   "metadata": {
    "collapsed": true
   },
   "outputs": [],
   "source": [
    "TAM_POBLACION = 10\n",
    "PROB_CRUCE = 0.6\n",
    "PROB_MUTACION = 0.01\n",
    "TASA_ELITISMO = 0.05\n",
    "NUM_GENERACIONES = 100\n"
   ]
  },
  {
   "cell_type": "code",
   "execution_count": 7,
   "metadata": {
    "collapsed": true
   },
   "outputs": [],
   "source": [
    "estrategia = ValidacionCruzada(5)\n"
   ]
  },
  {
   "cell_type": "code",
   "execution_count": 8,
   "metadata": {
    "collapsed": false
   },
   "outputs": [],
   "source": [
    "tic_tac_toe = Datos(\"../ficheros/ConjuntosDatos/tic-tac-toe.data\", True)\n",
    "#example1 = Datos(\"../ficheros/ConjuntosDatos/example1.data\",True)\n",
    "#example2 = Datos(\"../ficheros/ConjuntosDatos/example2.data\",True)"
   ]
  },
  {
   "cell_type": "code",
   "execution_count": 9,
   "metadata": {
    "collapsed": false
   },
   "outputs": [],
   "source": [
    "clasificador = ClasificadorPittsburgh(PROB_CRUCE, \n",
    "                                      PROB_MUTACION,\n",
    "                                      TASA_ELITISMO,\n",
    "                                      TAM_POBLACION,\n",
    "                                      NUM_GENERACIONES)\n",
    "#errores = clasificador.validacion(estrategia, tic_tac_toe, clasificador)\n",
    "#print( \"Tasa de acierto  = \", 1 - np.mean(errores))"
   ]
  },
  {
   "cell_type": "code",
   "execution_count": 19,
   "metadata": {
    "collapsed": false
   },
   "outputs": [
    {
     "name": "stdout",
     "output_type": "stream",
     "text": [
      "0.0\n"
     ]
    }
   ],
   "source": []
  },
  {
   "cell_type": "code",
   "execution_count": null,
   "metadata": {
    "collapsed": true
   },
   "outputs": [],
   "source": []
  }
 ],
 "metadata": {
  "kernelspec": {
   "display_name": "Python 3",
   "language": "python",
   "name": "python3"
  },
  "language_info": {
   "codemirror_mode": {
    "name": "ipython",
    "version": 3
   },
   "file_extension": ".py",
   "mimetype": "text/x-python",
   "name": "python",
   "nbconvert_exporter": "python",
   "pygments_lexer": "ipython3",
   "version": "3.5.2"
  }
 },
 "nbformat": 4,
 "nbformat_minor": 1
}
