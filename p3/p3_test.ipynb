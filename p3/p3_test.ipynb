{
 "cells": [
  {
   "cell_type": "code",
   "execution_count": 1,
   "metadata": {
    "collapsed": false
   },
   "outputs": [],
   "source": [
    "from ClasificadorPittsburgh import ClasificadorPittsburgh\n",
    "from datos import Datos\n",
    "from EstrategiaParticionado import ValidacionCruzada\n",
    "import numpy as np\n"
   ]
  },
  {
   "cell_type": "code",
   "execution_count": 2,
   "metadata": {
    "collapsed": true
   },
   "outputs": [],
   "source": [
    "TAM_POBLACION = 10\n",
    "PROB_CRUCE = 0.6\n",
    "PROB_MUTACION = 0.01\n",
    "TASA_ELITISMO = 0.05\n",
    "NUM_GENERACIONES = 100\n"
   ]
  },
  {
   "cell_type": "code",
   "execution_count": 3,
   "metadata": {
    "collapsed": true
   },
   "outputs": [],
   "source": [
    "estrategia = ValidacionCruzada(3)\n"
   ]
  },
  {
   "cell_type": "code",
   "execution_count": 4,
   "metadata": {
    "collapsed": false,
    "scrolled": false
   },
   "outputs": [],
   "source": [
    "tic_tac_toe = Datos(\"../ficheros/ConjuntosDatos/tic-tac-toe.data\", True)\n",
    "example2 = Datos(\"../ficheros/ConjuntosDatos/example2.data\",True)\n",
    "example5 = Datos(\"../ficheros/ConjuntosDatos/ejemplo5.data\",True)\n",
    "example6 = Datos(\"../ficheros/ConjuntosDatos/ejemplo6.data\",True)\n",
    "titanic = Datos(\"../ficheros/ConjuntosDatos/titanic.data\",True)\n"
   ]
  },
  {
   "cell_type": "code",
   "execution_count": 5,
   "metadata": {
    "collapsed": false
   },
   "outputs": [
    {
     "data": {
      "text/plain": [
       "[{'+': array([ 1.,  0.]), '-': array([ 0.,  1.])},\n",
       " {'+': array([ 1.,  0.]), '-': array([ 0.,  1.])},\n",
       " {'+': array([ 1.,  0.]), '-': array([ 0.,  1.])}]"
      ]
     },
     "execution_count": 5,
     "metadata": {},
     "output_type": "execute_result"
    }
   ],
   "source": [
    "example2.diccionarios"
   ]
  },
  {
   "cell_type": "code",
   "execution_count": 15,
   "metadata": {
    "collapsed": false
   },
   "outputs": [
    {
     "data": {
      "text/plain": [
       "[True, True, True]"
      ]
     },
     "execution_count": 15,
     "metadata": {},
     "output_type": "execute_result"
    }
   ],
   "source": [
    "example2.nominalAtributos"
   ]
  },
  {
   "cell_type": "code",
   "execution_count": 16,
   "metadata": {
    "collapsed": false
   },
   "outputs": [
    {
     "name": "stdout",
     "output_type": "stream",
     "text": [
      "(2, 400, 3)\n"
     ]
    },
    {
     "data": {
      "text/plain": [
       "(958, 10)"
      ]
     },
     "execution_count": 16,
     "metadata": {},
     "output_type": "execute_result"
    }
   ],
   "source": [
    "print(example2.datos.shape)\n",
    "tic_tac_toe.datos.shape"
   ]
  },
  {
   "cell_type": "code",
   "execution_count": 15,
   "metadata": {
    "collapsed": false
   },
   "outputs": [
    {
     "name": "stdout",
     "output_type": "stream",
     "text": [
      "(3, 400, 2)\n",
      "(10, 958)\n",
      "(2, 400, 3)\n",
      "(300, 2)\n"
     ]
    }
   ],
   "source": [
    "print(example2.datos.transpose().shape)\n",
    "print(tic_tac_toe.datos.transpose().shape)\n",
    "print(example5.datos.shape)\n"
   ]
  },
  {
   "cell_type": "code",
   "execution_count": 8,
   "metadata": {
    "collapsed": false
   },
   "outputs": [],
   "source": [
    "clasificador = ClasificadorPittsburgh(PROB_CRUCE, \n",
    "                                      PROB_MUTACION,\n",
    "                                      TASA_ELITISMO,\n",
    "                                      TAM_POBLACION,\n",
    "                                      NUM_GENERACIONES)\n",
    "\n",
    "#errores = clasificador.validacion(estrategia, tic_tac_toe, clasificador)\n",
    "#print( \"Tasa de acierto  = \", 1 - np.mean(errores))"
   ]
  },
  {
   "cell_type": "code",
   "execution_count": 16,
   "metadata": {
    "collapsed": false
   },
   "outputs": [
    {
     "name": "stdout",
     "output_type": "stream",
     "text": [
      "Particion clasificada\n",
      "Particion clasificada\n",
      "Particion clasificada\n",
      "0.326666666667\n",
      "if : [ 0.  1.  1.] then: [ 1.  0.]\n",
      "if : [ 1.  0.  0.] then: [ 1.  0.]\n",
      "if : [ 0.  1.  0.] then: [ 1.  0.]\n"
     ]
    }
   ],
   "source": [
    "print(1 - np.mean(clasificador.validacion(estrategia, example6, clasificador)))\n",
    "print(clasificador.individuo_apto)"
   ]
  },
  {
   "cell_type": "code",
   "execution_count": null,
   "metadata": {
    "collapsed": false
   },
   "outputs": [],
   "source": [
    "print(1 - np.mean(clasificador.validacion(estrategia, titanic, clasificador)))\n",
    "print(clasificador.individuo_apto)"
   ]
  },
  {
   "cell_type": "code",
   "execution_count": 6,
   "metadata": {
    "collapsed": true
   },
   "outputs": [],
   "source": [
    "TAM_POBLACION = 10\n",
    "NUM_GENERACIONES = 500\n",
    "clasificador = ClasificadorPittsburgh(PROB_CRUCE, \n",
    "                                      PROB_MUTACION,\n",
    "                                      TASA_ELITISMO,\n",
    "                                      TAM_POBLACION,\n",
    "                                      NUM_GENERACIONES)\n"
   ]
  },
  {
   "cell_type": "code",
   "execution_count": null,
   "metadata": {
    "collapsed": true
   },
   "outputs": [],
   "source": [
    "print(1 - np.mean(clasificador.validacion(estrategia, example6, clasificador)))\n",
    "print(clasificador.individuo_apto)"
   ]
  },
  {
   "cell_type": "code",
   "execution_count": 6,
   "metadata": {
    "collapsed": false
   },
   "outputs": [
    {
     "name": "stdout",
     "output_type": "stream",
     "text": [
      "Particion clasificada\n",
      "Particion clasificada\n",
      "Particion clasificada\n",
      "0.346561520376\n"
     ]
    }
   ],
   "source": [
    "print(1 - np.mean(clasificador.validacion(estrategia, tic_tac_toe, clasificador)))\n"
   ]
  },
  {
   "cell_type": "code",
   "execution_count": 7,
   "metadata": {
    "collapsed": false
   },
   "outputs": [
    {
     "ename": "KeyboardInterrupt",
     "evalue": "",
     "output_type": "error",
     "traceback": [
      "\u001b[0;31m---------------------------------------------------------------------------\u001b[0m",
      "\u001b[0;31mKeyboardInterrupt\u001b[0m                         Traceback (most recent call last)",
      "\u001b[0;32m<ipython-input-7-cb3af145cfc9>\u001b[0m in \u001b[0;36m<module>\u001b[0;34m()\u001b[0m\n\u001b[1;32m      7\u001b[0m                                       NUM_GENERACIONES)\n\u001b[1;32m      8\u001b[0m \u001b[0;34m\u001b[0m\u001b[0m\n\u001b[0;32m----> 9\u001b[0;31m \u001b[0mprint\u001b[0m\u001b[0;34m(\u001b[0m\u001b[0;36m1\u001b[0m \u001b[0;34m-\u001b[0m \u001b[0mnp\u001b[0m\u001b[0;34m.\u001b[0m\u001b[0mmean\u001b[0m\u001b[0;34m(\u001b[0m\u001b[0mclasificador\u001b[0m\u001b[0;34m.\u001b[0m\u001b[0mvalidacion\u001b[0m\u001b[0;34m(\u001b[0m\u001b[0mestrategia\u001b[0m\u001b[0;34m,\u001b[0m \u001b[0mtitanic\u001b[0m\u001b[0;34m,\u001b[0m \u001b[0mclasificador\u001b[0m\u001b[0;34m)\u001b[0m\u001b[0;34m)\u001b[0m\u001b[0;34m)\u001b[0m\u001b[0;34m\u001b[0m\u001b[0m\n\u001b[0m",
      "\u001b[0;32m/home/snzceb/Documents/code/python/faa/trunk/p3/Clasificador.py\u001b[0m in \u001b[0;36mvalidacion\u001b[0;34m(self, particionado, dataset, clasificador, seed)\u001b[0m\n\u001b[1;32m     56\u001b[0m       \u001b[0;32mreturn\u001b[0m \u001b[0mself\u001b[0m\u001b[0;34m.\u001b[0m\u001b[0merror\u001b[0m \u001b[0;34m(\u001b[0m \u001b[0mdatos_test\u001b[0m\u001b[0;34m[\u001b[0m\u001b[0;34m:\u001b[0m\u001b[0;34m,\u001b[0m\u001b[0;34m-\u001b[0m\u001b[0;36m1\u001b[0m\u001b[0;34m]\u001b[0m\u001b[0;34m,\u001b[0m \u001b[0mprediccion\u001b[0m \u001b[0;34m)\u001b[0m\u001b[0;34m\u001b[0m\u001b[0m\n\u001b[1;32m     57\u001b[0m     \u001b[0mparticiones\u001b[0m \u001b[0;34m=\u001b[0m \u001b[0mparticionado\u001b[0m\u001b[0;34m.\u001b[0m\u001b[0mcreaParticiones\u001b[0m\u001b[0;34m(\u001b[0m\u001b[0mdataset\u001b[0m\u001b[0;34m)\u001b[0m\u001b[0;34m\u001b[0m\u001b[0m\n\u001b[0;32m---> 58\u001b[0;31m     \u001b[0;32mreturn\u001b[0m \u001b[0mlist\u001b[0m\u001b[0;34m(\u001b[0m\u001b[0mmap\u001b[0m\u001b[0;34m(\u001b[0m\u001b[0m__calculaError\u001b[0m\u001b[0;34m,\u001b[0m \u001b[0mparticiones\u001b[0m\u001b[0;34m)\u001b[0m\u001b[0;34m)\u001b[0m\u001b[0;34m\u001b[0m\u001b[0m\n\u001b[0m\u001b[1;32m     59\u001b[0m \u001b[0;34m\u001b[0m\u001b[0m\n",
      "\u001b[0;32m/home/snzceb/Documents/code/python/faa/trunk/p3/Clasificador.py\u001b[0m in \u001b[0;36m__calculaError\u001b[0;34m(particion)\u001b[0m\n\u001b[1;32m     48\u001b[0m       clasificador.entrenamiento( datos_train,\n\u001b[1;32m     49\u001b[0m                                   \u001b[0mdataset\u001b[0m\u001b[0;34m.\u001b[0m\u001b[0mnominalAtributos\u001b[0m\u001b[0;34m,\u001b[0m\u001b[0;34m\u001b[0m\u001b[0m\n\u001b[0;32m---> 50\u001b[0;31m                                   dataset.diccionarios )\n\u001b[0m\u001b[1;32m     51\u001b[0m       \u001b[0mdatos_test\u001b[0m \u001b[0;34m=\u001b[0m \u001b[0mdataset\u001b[0m\u001b[0;34m.\u001b[0m\u001b[0mextraeDatosTest\u001b[0m \u001b[0;34m(\u001b[0m \u001b[0mparticion\u001b[0m \u001b[0;34m)\u001b[0m\u001b[0;34m\u001b[0m\u001b[0m\n\u001b[1;32m     52\u001b[0m       prediccion = clasificador.clasifica ( datos_test,\n",
      "\u001b[0;32m/home/snzceb/Documents/code/python/faa/trunk/p3/ClasificadorPittsburgh.py\u001b[0m in \u001b[0;36mentrenamiento\u001b[0;34m(self, datosTrain, atributosDiscretos, diccionario)\u001b[0m\n\u001b[1;32m     32\u001b[0m                                    self.tasa_elitismo)\n\u001b[1;32m     33\u001b[0m         \u001b[0;32mfor\u001b[0m \u001b[0mi\u001b[0m \u001b[0;32min\u001b[0m \u001b[0mrange\u001b[0m\u001b[0;34m(\u001b[0m\u001b[0mself\u001b[0m\u001b[0;34m.\u001b[0m\u001b[0mnum_generaciones\u001b[0m\u001b[0;34m)\u001b[0m\u001b[0;34m:\u001b[0m\u001b[0;34m\u001b[0m\u001b[0m\n\u001b[0;32m---> 34\u001b[0;31m             \u001b[0mself\u001b[0m\u001b[0;34m.\u001b[0m\u001b[0mpoblacion\u001b[0m\u001b[0;34m.\u001b[0m\u001b[0mnueva_generacion\u001b[0m\u001b[0;34m(\u001b[0m\u001b[0mdatosTrain\u001b[0m\u001b[0;34m)\u001b[0m\u001b[0;34m\u001b[0m\u001b[0m\n\u001b[0m\u001b[1;32m     35\u001b[0m             \u001b[0mself\u001b[0m\u001b[0;34m.\u001b[0m\u001b[0mindividuo_apto\u001b[0m \u001b[0;34m=\u001b[0m \u001b[0mself\u001b[0m\u001b[0;34m.\u001b[0m\u001b[0mpoblacion\u001b[0m\u001b[0;34m.\u001b[0m\u001b[0mmejor_individuo\u001b[0m\u001b[0;34m(\u001b[0m\u001b[0;34m)\u001b[0m\u001b[0;34m\u001b[0m\u001b[0m\n\u001b[1;32m     36\u001b[0m             \u001b[0;32mif\u001b[0m \u001b[0;34m(\u001b[0m\u001b[0mself\u001b[0m\u001b[0;34m.\u001b[0m\u001b[0mindividuo_apto\u001b[0m\u001b[0;34m.\u001b[0m\u001b[0mfitness\u001b[0m \u001b[0;34m>\u001b[0m \u001b[0;36m0.9\u001b[0m\u001b[0;34m)\u001b[0m\u001b[0;34m:\u001b[0m\u001b[0;34m\u001b[0m\u001b[0m\n",
      "\u001b[0;32m/home/snzceb/Documents/code/python/faa/trunk/p3/Poblacion.py\u001b[0m in \u001b[0;36mnueva_generacion\u001b[0;34m(self, datos_train)\u001b[0m\n\u001b[1;32m    100\u001b[0m \u001b[0;34m\u001b[0m\u001b[0m\n\u001b[1;32m    101\u001b[0m     \u001b[0;32mdef\u001b[0m \u001b[0mnueva_generacion\u001b[0m\u001b[0;34m(\u001b[0m\u001b[0mself\u001b[0m\u001b[0;34m,\u001b[0m \u001b[0mdatos_train\u001b[0m\u001b[0;34m)\u001b[0m\u001b[0;34m:\u001b[0m\u001b[0;34m\u001b[0m\u001b[0m\n\u001b[0;32m--> 102\u001b[0;31m         \u001b[0mself\u001b[0m\u001b[0;34m.\u001b[0m\u001b[0mordenar_poblacion\u001b[0m\u001b[0;34m(\u001b[0m\u001b[0mdatos_train\u001b[0m\u001b[0;34m)\u001b[0m\u001b[0;34m\u001b[0m\u001b[0m\n\u001b[0m\u001b[1;32m    103\u001b[0m         \u001b[0mself\u001b[0m\u001b[0;34m.\u001b[0m\u001b[0mrecombinacion\u001b[0m\u001b[0;34m(\u001b[0m\u001b[0;34m)\u001b[0m\u001b[0;34m\u001b[0m\u001b[0m\n\u001b[1;32m    104\u001b[0m         \u001b[0mself\u001b[0m\u001b[0;34m.\u001b[0m\u001b[0mmutacion\u001b[0m\u001b[0;34m(\u001b[0m\u001b[0;34m)\u001b[0m\u001b[0;34m\u001b[0m\u001b[0m\n",
      "\u001b[0;32m/home/snzceb/Documents/code/python/faa/trunk/p3/Poblacion.py\u001b[0m in \u001b[0;36mordenar_poblacion\u001b[0;34m(self, datos_train)\u001b[0m\n\u001b[1;32m     49\u001b[0m         poblacion_ordenada = sorted(poblacion,\n\u001b[1;32m     50\u001b[0m                                     \u001b[0mkey\u001b[0m \u001b[0;34m=\u001b[0m \u001b[0;32mlambda\u001b[0m \u001b[0mx\u001b[0m \u001b[0;34m:\u001b[0m \u001b[0mx\u001b[0m\u001b[0;34m[\u001b[0m\u001b[0;36m1\u001b[0m\u001b[0;34m]\u001b[0m\u001b[0;34m,\u001b[0m\u001b[0;34m\u001b[0m\u001b[0m\n\u001b[0;32m---> 51\u001b[0;31m                                     reverse=True)\n\u001b[0m\u001b[1;32m     52\u001b[0m         \u001b[0mself\u001b[0m\u001b[0;34m.\u001b[0m\u001b[0mindividuos\u001b[0m \u001b[0;34m=\u001b[0m \u001b[0;34m[\u001b[0m\u001b[0mindividuo\u001b[0m\u001b[0;34m[\u001b[0m\u001b[0;36m0\u001b[0m\u001b[0;34m]\u001b[0m \u001b[0;32mfor\u001b[0m \u001b[0mindividuo\u001b[0m \u001b[0;32min\u001b[0m  \u001b[0mpoblacion_ordenada\u001b[0m\u001b[0;34m]\u001b[0m\u001b[0;34m\u001b[0m\u001b[0m\n\u001b[1;32m     53\u001b[0m         \u001b[0;32mreturn\u001b[0m \u001b[0mpoblacion_ordenada\u001b[0m\u001b[0;34m\u001b[0m\u001b[0m\n",
      "\u001b[0;32m/home/snzceb/Documents/code/python/faa/trunk/p3/Poblacion.py\u001b[0m in \u001b[0;36m<lambda>\u001b[0;34m(x)\u001b[0m\n\u001b[1;32m     45\u001b[0m         \u001b[0men\u001b[0m \u001b[0mfuncion\u001b[0m \u001b[0;32mdel\u001b[0m \u001b[0mfitness\u001b[0m \u001b[0mpara\u001b[0m \u001b[0mposteriormente\u001b[0m \u001b[0mrealizar\u001b[0m\u001b[0;34m\u001b[0m\u001b[0m\n\u001b[1;32m     46\u001b[0m         una seleccion proporcional al mismo\"\"\"\n\u001b[0;32m---> 47\u001b[0;31m         poblacion = zip(self.individuos, map( lambda x : x.obtener_fitness(datos_train),\n\u001b[0m\u001b[1;32m     48\u001b[0m                                                                            self.individuos))\n\u001b[1;32m     49\u001b[0m         poblacion_ordenada = sorted(poblacion,\n",
      "\u001b[0;32m/home/snzceb/Documents/code/python/faa/trunk/p3/Individuo.py\u001b[0m in \u001b[0;36mobtener_fitness\u001b[0;34m(self, datos_train)\u001b[0m\n\u001b[1;32m     30\u001b[0m         \u001b[0;32mdef\u001b[0m \u001b[0m__acierta\u001b[0m\u001b[0;34m(\u001b[0m\u001b[0mdato_train\u001b[0m\u001b[0;34m)\u001b[0m\u001b[0;34m:\u001b[0m\u001b[0;34m\u001b[0m\u001b[0m\n\u001b[1;32m     31\u001b[0m             \u001b[0;32mreturn\u001b[0m \u001b[0;32mnot\u001b[0m \u001b[0;34m(\u001b[0m\u001b[0mself\u001b[0m\u001b[0;34m.\u001b[0m\u001b[0mclasifica\u001b[0m\u001b[0;34m(\u001b[0m\u001b[0mdato_train\u001b[0m\u001b[0;34m[\u001b[0m\u001b[0;34m:\u001b[0m\u001b[0;34m-\u001b[0m\u001b[0;36m1\u001b[0m\u001b[0;34m]\u001b[0m\u001b[0;34m)\u001b[0m \u001b[0;34m-\u001b[0m \u001b[0mdato_train\u001b[0m\u001b[0;34m[\u001b[0m\u001b[0;34m-\u001b[0m\u001b[0;36m1\u001b[0m\u001b[0;34m]\u001b[0m\u001b[0;34m)\u001b[0m\u001b[0;34m.\u001b[0m\u001b[0many\u001b[0m\u001b[0;34m(\u001b[0m\u001b[0;34m)\u001b[0m\u001b[0;34m\u001b[0m\u001b[0m\n\u001b[0;32m---> 32\u001b[0;31m         \u001b[0mself\u001b[0m\u001b[0;34m.\u001b[0m\u001b[0mfitness\u001b[0m \u001b[0;34m=\u001b[0m \u001b[0msum\u001b[0m\u001b[0;34m(\u001b[0m\u001b[0mmap\u001b[0m\u001b[0;34m(\u001b[0m\u001b[0m__acierta\u001b[0m\u001b[0;34m,\u001b[0m \u001b[0mdatos_train\u001b[0m\u001b[0;34m)\u001b[0m\u001b[0;34m)\u001b[0m \u001b[0;34m/\u001b[0m \u001b[0mlen\u001b[0m\u001b[0;34m(\u001b[0m\u001b[0mdatos_train\u001b[0m\u001b[0;34m)\u001b[0m\u001b[0;34m\u001b[0m\u001b[0m\n\u001b[0m\u001b[1;32m     33\u001b[0m         \u001b[0;32mreturn\u001b[0m \u001b[0mself\u001b[0m\u001b[0;34m.\u001b[0m\u001b[0mfitness\u001b[0m\u001b[0;34m\u001b[0m\u001b[0m\n\u001b[1;32m     34\u001b[0m \u001b[0;34m\u001b[0m\u001b[0m\n",
      "\u001b[0;32m/home/snzceb/Documents/code/python/faa/trunk/p3/Individuo.py\u001b[0m in \u001b[0;36m__acierta\u001b[0;34m(dato_train)\u001b[0m\n\u001b[1;32m     29\u001b[0m         de un numpy array con los datos codificados\"\"\"\n\u001b[1;32m     30\u001b[0m         \u001b[0;32mdef\u001b[0m \u001b[0m__acierta\u001b[0m\u001b[0;34m(\u001b[0m\u001b[0mdato_train\u001b[0m\u001b[0;34m)\u001b[0m\u001b[0;34m:\u001b[0m\u001b[0;34m\u001b[0m\u001b[0m\n\u001b[0;32m---> 31\u001b[0;31m             \u001b[0;32mreturn\u001b[0m \u001b[0;32mnot\u001b[0m \u001b[0;34m(\u001b[0m\u001b[0mself\u001b[0m\u001b[0;34m.\u001b[0m\u001b[0mclasifica\u001b[0m\u001b[0;34m(\u001b[0m\u001b[0mdato_train\u001b[0m\u001b[0;34m[\u001b[0m\u001b[0;34m:\u001b[0m\u001b[0;34m-\u001b[0m\u001b[0;36m1\u001b[0m\u001b[0;34m]\u001b[0m\u001b[0;34m)\u001b[0m \u001b[0;34m-\u001b[0m \u001b[0mdato_train\u001b[0m\u001b[0;34m[\u001b[0m\u001b[0;34m-\u001b[0m\u001b[0;36m1\u001b[0m\u001b[0;34m]\u001b[0m\u001b[0;34m)\u001b[0m\u001b[0;34m.\u001b[0m\u001b[0many\u001b[0m\u001b[0;34m(\u001b[0m\u001b[0;34m)\u001b[0m\u001b[0;34m\u001b[0m\u001b[0m\n\u001b[0m\u001b[1;32m     32\u001b[0m         \u001b[0mself\u001b[0m\u001b[0;34m.\u001b[0m\u001b[0mfitness\u001b[0m \u001b[0;34m=\u001b[0m \u001b[0msum\u001b[0m\u001b[0;34m(\u001b[0m\u001b[0mmap\u001b[0m\u001b[0;34m(\u001b[0m\u001b[0m__acierta\u001b[0m\u001b[0;34m,\u001b[0m \u001b[0mdatos_train\u001b[0m\u001b[0;34m)\u001b[0m\u001b[0;34m)\u001b[0m \u001b[0;34m/\u001b[0m \u001b[0mlen\u001b[0m\u001b[0;34m(\u001b[0m\u001b[0mdatos_train\u001b[0m\u001b[0;34m)\u001b[0m\u001b[0;34m\u001b[0m\u001b[0m\n\u001b[1;32m     33\u001b[0m         \u001b[0;32mreturn\u001b[0m \u001b[0mself\u001b[0m\u001b[0;34m.\u001b[0m\u001b[0mfitness\u001b[0m\u001b[0;34m\u001b[0m\u001b[0m\n",
      "\u001b[0;32m/home/snzceb/Documents/code/python/faa/trunk/p3/Individuo.py\u001b[0m in \u001b[0;36mclasifica\u001b[0;34m(self, dato)\u001b[0m\n\u001b[1;32m     21\u001b[0m     \u001b[0;32mdef\u001b[0m \u001b[0mclasifica\u001b[0m\u001b[0;34m(\u001b[0m\u001b[0mself\u001b[0m\u001b[0;34m,\u001b[0m \u001b[0mdato\u001b[0m\u001b[0;34m)\u001b[0m\u001b[0;34m:\u001b[0m\u001b[0;34m\u001b[0m\u001b[0m\n\u001b[1;32m     22\u001b[0m         \u001b[0;32mfor\u001b[0m \u001b[0mregla\u001b[0m \u001b[0;32min\u001b[0m \u001b[0mself\u001b[0m\u001b[0;34m.\u001b[0m\u001b[0mreglas\u001b[0m\u001b[0;34m:\u001b[0m\u001b[0;34m\u001b[0m\u001b[0m\n\u001b[0;32m---> 23\u001b[0;31m             \u001b[0;32mif\u001b[0m \u001b[0mregla\u001b[0m\u001b[0;34m.\u001b[0m\u001b[0mse_cumple\u001b[0m\u001b[0;34m(\u001b[0m\u001b[0mdato\u001b[0m\u001b[0;34m)\u001b[0m\u001b[0;34m:\u001b[0m\u001b[0;34m\u001b[0m\u001b[0m\n\u001b[0m\u001b[1;32m     24\u001b[0m                 \u001b[0;32mreturn\u001b[0m \u001b[0mregla\u001b[0m\u001b[0;34m.\u001b[0m\u001b[0mconclusion\u001b[0m\u001b[0;34m\u001b[0m\u001b[0m\n\u001b[1;32m     25\u001b[0m         \u001b[0;32mreturn\u001b[0m \u001b[0mself\u001b[0m\u001b[0;34m.\u001b[0m\u001b[0mreglas\u001b[0m\u001b[0;34m[\u001b[0m\u001b[0;36m0\u001b[0m\u001b[0;34m]\u001b[0m\u001b[0;34m.\u001b[0m\u001b[0mconclusion\u001b[0m\u001b[0;34m\u001b[0m\u001b[0m\n",
      "\u001b[0;32m/home/snzceb/Documents/code/python/faa/trunk/p3/Regla.py\u001b[0m in \u001b[0;36mse_cumple\u001b[0;34m(self, dato)\u001b[0m\n\u001b[1;32m     19\u001b[0m         \u001b[0;34m\"\"\"Conjuncion de clausulas, se espera una lista de numpy array\"\"\"\u001b[0m\u001b[0;34m\u001b[0m\u001b[0m\n\u001b[1;32m     20\u001b[0m         \u001b[0mclausulas_comp\u001b[0m \u001b[0;34m=\u001b[0m \u001b[0mmap\u001b[0m\u001b[0;34m(\u001b[0m\u001b[0;32mlambda\u001b[0m \u001b[0mx\u001b[0m\u001b[0;34m,\u001b[0m \u001b[0my\u001b[0m \u001b[0;34m:\u001b[0m \u001b[0mx\u001b[0m\u001b[0;34m.\u001b[0m\u001b[0mse_cumple\u001b[0m\u001b[0;34m(\u001b[0m\u001b[0my\u001b[0m\u001b[0;34m)\u001b[0m\u001b[0;34m,\u001b[0m\u001b[0mself\u001b[0m\u001b[0;34m.\u001b[0m\u001b[0mclausulas\u001b[0m\u001b[0;34m,\u001b[0m \u001b[0mdato\u001b[0m\u001b[0;34m)\u001b[0m\u001b[0;34m\u001b[0m\u001b[0m\n\u001b[0;32m---> 21\u001b[0;31m         \u001b[0;32mreturn\u001b[0m \u001b[0mreduce\u001b[0m\u001b[0;34m(\u001b[0m\u001b[0mop\u001b[0m\u001b[0;34m.\u001b[0m\u001b[0mand_\u001b[0m\u001b[0;34m,\u001b[0m \u001b[0mclausulas_comp\u001b[0m\u001b[0;34m)\u001b[0m\u001b[0;34m\u001b[0m\u001b[0m\n\u001b[0m\u001b[1;32m     22\u001b[0m \u001b[0;34m\u001b[0m\u001b[0m\n\u001b[1;32m     23\u001b[0m     \u001b[0;32mdef\u001b[0m \u001b[0mcruce\u001b[0m \u001b[0;34m(\u001b[0m\u001b[0mself\u001b[0m\u001b[0;34m,\u001b[0m \u001b[0mregla\u001b[0m\u001b[0;34m,\u001b[0m \u001b[0mpunto\u001b[0m\u001b[0;34m)\u001b[0m\u001b[0;34m:\u001b[0m\u001b[0;34m\u001b[0m\u001b[0m\n",
      "\u001b[0;31mKeyboardInterrupt\u001b[0m: "
     ]
    }
   ],
   "source": [
    "TAM_POBLACION = 200\n",
    "NUM_GENERACIONES = 100\n",
    "clasificador = ClasificadorPittsburgh(PROB_CRUCE, \n",
    "                                      PROB_MUTACION,\n",
    "                                      TASA_ELITISMO,\n",
    "                                      TAM_POBLACION,\n",
    "                                      NUM_GENERACIONES)\n",
    "\n",
    "print(1 - np.mean(clasificador.validacion(estrategia, titanic, clasificador)))"
   ]
  },
  {
   "cell_type": "code",
   "execution_count": null,
   "metadata": {
    "collapsed": true
   },
   "outputs": [],
   "source": [
    "print(1 - np.mean(clasificador.validacion(estrategia, tic_tac_toe, clasificador)))"
   ]
  },
  {
   "cell_type": "code",
   "execution_count": null,
   "metadata": {
    "collapsed": true
   },
   "outputs": [],
   "source": [
    "NUM_GENERACIONES = 500\n",
    "\n",
    "clasificador = ClasificadorPittsburgh(PROB_CRUCE, \n",
    "                                      PROB_MUTACION,\n",
    "                                      TASA_ELITISMO,\n",
    "                                      TAM_POBLACION,\n",
    "                                      NUM_GENERACIONES)\n",
    "\n",
    "print(1 - np.mean(clasificador.validacion(estrategia, tic_tac_toe, clasificador)))"
   ]
  },
  {
   "cell_type": "code",
   "execution_count": null,
   "metadata": {
    "collapsed": true
   },
   "outputs": [],
   "source": [
    "print(1 - np.mean(clasificador.validacion(estrategia, titanic, clasificador)))"
   ]
  },
  {
   "cell_type": "code",
   "execution_count": null,
   "metadata": {
    "collapsed": true
   },
   "outputs": [],
   "source": [
    "TAM_POBLACION = 500\n",
    "NUM_GENERACIONES = 100\n",
    "clasificador = ClasificadorPittsburgh(PROB_CRUCE, \n",
    "                                      PROB_MUTACION,\n",
    "                                      TASA_ELITISMO,\n",
    "                                      TAM_POBLACION,\n",
    "                                      NUM_GENERACIONES)\n",
    "\n",
    "print(1 - np.mean(clasificador.validacion(estrategia, titanic, clasificador)))"
   ]
  },
  {
   "cell_type": "code",
   "execution_count": null,
   "metadata": {
    "collapsed": true
   },
   "outputs": [],
   "source": [
    "print(1 - np.mean(clasificador.validacion(estrategia, tic_tac_toe, clasificador)))"
   ]
  },
  {
   "cell_type": "code",
   "execution_count": null,
   "metadata": {
    "collapsed": true
   },
   "outputs": [],
   "source": [
    "NUM_GENERACIONES = 500\n",
    "\n",
    "clasificador = ClasificadorPittsburgh(PROB_CRUCE, \n",
    "                                      PROB_MUTACION,\n",
    "                                      TASA_ELITISMO,\n",
    "                                      TAM_POBLACION,\n",
    "                                      NUM_GENERACIONES)\n"
   ]
  },
  {
   "cell_type": "code",
   "execution_count": null,
   "metadata": {
    "collapsed": true
   },
   "outputs": [],
   "source": [
    "print(1 - np.mean(clasificador.validacion(estrategia, tic_tac_toe, clasificador)))\n"
   ]
  },
  {
   "cell_type": "code",
   "execution_count": null,
   "metadata": {
    "collapsed": true
   },
   "outputs": [],
   "source": [
    "print(1 - np.mean(clasificador.validacion(estrategia, titanic, clasificador)))"
   ]
  },
  {
   "cell_type": "code",
   "execution_count": null,
   "metadata": {
    "collapsed": true
   },
   "outputs": [],
   "source": []
  }
 ],
 "metadata": {
  "anaconda-cloud": {},
  "kernelspec": {
   "display_name": "Python 3",
   "language": "python",
   "name": "python3"
  },
  "language_info": {
   "codemirror_mode": {
    "name": "ipython",
    "version": 3
   },
   "file_extension": ".py",
   "mimetype": "text/x-python",
   "name": "python",
   "nbconvert_exporter": "python",
   "pygments_lexer": "ipython3",
   "version": "3.5.2"
  }
 },
 "nbformat": 4,
 "nbformat_minor": 1
}
