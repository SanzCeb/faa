{
 "cells": [
  {
   "cell_type": "code",
   "execution_count": 6,
   "metadata": {
    "collapsed": true
   },
   "outputs": [],
   "source": [
    "from datos import Datos\n",
    "\n",
    "example6 = Datos('../ficheros/ConjuntosDatos/ejemplo6.data',True)\n",
    "titanic = Datos('../ficheros/ConjuntosDatos/titanic.data',True)\n",
    "tic_tac_toe = Datos('../ficheros/ConjuntosDatos/tic-tac-toe.data',True)"
   ]
  },
  {
   "cell_type": "markdown",
   "metadata": {
    "collapsed": true
   },
   "source": [
    "<h2>Apartado 1</h2>\n",
    "\n",
    "<p><strong>\n",
    "1.Generación de la población inicial con especial indicación del número de reglas por individuo consideradas:\n",
    "</strong></p>\n",
    "<p>\n",
    "<p>\n",
    "La población generada se compone de individuos cuyo número de reglas es de 5 como máximo. \n",
    "</p>\n",
    "<p><strong>\n",
    "2.Mecanismo de cruce implementado\n",
    "</strong></p>\n",
    "<p>\n",
    "El mecanismo que se ha elegido ha sido el cruce en un punto. El punto se elige de forma aleatoria. El número total de cruces a realizar se calcula multiplicando la probabilidad de cruce por el tamaño de la población. <br/>\n",
    "\n",
    "Una vez sabido el número de cruces elegimos de forma aleatoria, pero teniendo en cuenta el fitness proporcional, dos progenitores por cada cruce a realizar. Los dos progenitores pueden ser el mismo individuo.\n",
    "</p>\n",
    "<p><strong>\n",
    "3.Mecanismo de mutación implementado. \n",
    "</strong></p>\n",
    "<p>\n",
    "De manera análoga a la mecanismo de cruce, se calcula el número de mutaciones que se vas a producir en la población, multiplicando la probabilidad de mutación por el tamaño de la población. <br/>\n",
    "\n",
    "Una vez conocido el número de mutaciones que deberemos realizar, se eligen de forma aleatoria los individuos que hay que mutar. \n",
    "</p>\n"
   ]
  },
  {
   "cell_type": "markdown",
   "metadata": {},
   "source": [
    "<h2>Apartado 2</h2>\n",
    "\n",
    "<p><strong> Resultados de clasificación </strong></p>\n",
    "<ol type=\"a\">\n",
    "<li>\n",
    "<p>Tamaño de la población 10; Generaciones 100</p>\n",
    "<ul style=\"list-style-type:disc\">\n",
    "<li> Tasa de acierto obtenida en el conjunto <strong>tic-tac-toe</strong>: 0.34 </li>\n",
    "<li> Tasa de acierto obtenida en el conjunto <strong>titanic</strong>: 0.38 </li>\n",
    "<li> Tasa de acierto obtenida en el conjunto <strong>ejemplo6</strong>: 0.32</li>\n",
    "</ul>\n",
    "</li><br/>\n",
    "<li>Tamaño de población 10; Generaciones 500 </li>\n",
    "<ul style=\"list-style-type:circle\">\n",
    "<li> Tasa de acierto obtenida en el conjunto <strong> tic-tac-toe</strong>: 0.34 </li>\n",
    "<li> Tasa de acierto obtenida en el conjunto de datos <strong>titanic</strong>:0.59</li> \n",
    "</ul>\n",
    "</ol>\n",
    "\n",
    "<p>Debido a las limitaciones de mi máquina no he podido obtener resultados con conjuntos de población más grandes, puesto que el tiempo de computación se dispara.</p> \n",
    "\n",
    "Como la representación del individuo más apto la implementé después de empezar las primeras simulaciones, sólo he tenido tiempo de obtener la representación del individuo más apto para el conjunto de datos ejemplo6.<br/>\n",
    "\n",
    "if : [ 0.  1.  1.] then: [ 1.  0.] <br/>\n",
    "if : [ 1.  0.  0.] then: [ 1.  0.] <br/>\n",
    "if : [ 0.  1.  0.] then: [ 1.  0.] <br/>\n",
    "\n",
    "Para el ejemplo6, los diccionarios asociados son los siguientes:"
   ]
  },
  {
   "cell_type": "code",
   "execution_count": 5,
   "metadata": {
    "collapsed": false
   },
   "outputs": [
    {
     "data": {
      "text/plain": [
       "[{'a': array([ 0.,  1.,  0.]),\n",
       "  'b': array([ 0.,  0.,  1.]),\n",
       "  'c': array([ 1.,  0.,  0.])},\n",
       " {'+': array([ 1.,  0.]), '-': array([ 0.,  1.])}]"
      ]
     },
     "execution_count": 5,
     "metadata": {},
     "output_type": "execute_result"
    }
   ],
   "source": [
    "example6.diccionarios"
   ]
  },
  {
   "cell_type": "markdown",
   "metadata": {},
   "source": [
    "Para el conjunto titanic, los diccionarios son los siguientes:"
   ]
  },
  {
   "cell_type": "code",
   "execution_count": null,
   "metadata": {
    "collapsed": true
   },
   "outputs": [],
   "source": [
    "titanic.diccionarios"
   ]
  },
  {
   "cell_type": "markdown",
   "metadata": {},
   "source": [
    "Para el conjunto tic-tac-toe, los diccionarios son los siguientes:"
   ]
  },
  {
   "cell_type": "code",
   "execution_count": 7,
   "metadata": {
    "collapsed": false
   },
   "outputs": [
    {
     "data": {
      "text/plain": [
       "[{'b': array([ 0.,  0.,  1.]),\n",
       "  'o': array([ 1.,  0.,  0.]),\n",
       "  'x': array([ 0.,  1.,  0.])},\n",
       " {'b': array([ 0.,  0.,  1.]),\n",
       "  'o': array([ 1.,  0.,  0.]),\n",
       "  'x': array([ 0.,  1.,  0.])},\n",
       " {'b': array([ 0.,  0.,  1.]),\n",
       "  'o': array([ 1.,  0.,  0.]),\n",
       "  'x': array([ 0.,  1.,  0.])},\n",
       " {'b': array([ 0.,  0.,  1.]),\n",
       "  'o': array([ 1.,  0.,  0.]),\n",
       "  'x': array([ 0.,  1.,  0.])},\n",
       " {'b': array([ 0.,  0.,  1.]),\n",
       "  'o': array([ 1.,  0.,  0.]),\n",
       "  'x': array([ 0.,  1.,  0.])},\n",
       " {'b': array([ 0.,  0.,  1.]),\n",
       "  'o': array([ 1.,  0.,  0.]),\n",
       "  'x': array([ 0.,  1.,  0.])},\n",
       " {'b': array([ 0.,  0.,  1.]),\n",
       "  'o': array([ 1.,  0.,  0.]),\n",
       "  'x': array([ 0.,  1.,  0.])},\n",
       " {'b': array([ 0.,  0.,  1.]),\n",
       "  'o': array([ 1.,  0.,  0.]),\n",
       "  'x': array([ 0.,  1.,  0.])},\n",
       " {'b': array([ 0.,  0.,  1.]),\n",
       "  'o': array([ 1.,  0.,  0.]),\n",
       "  'x': array([ 0.,  1.,  0.])},\n",
       " {'negative': array([ 1.,  0.]), 'positive': array([ 0.,  1.])}]"
      ]
     },
     "execution_count": 7,
     "metadata": {},
     "output_type": "execute_result"
    }
   ],
   "source": [
    "tic_tac_toe.diccionarios"
   ]
  },
  {
   "cell_type": "markdown",
   "metadata": {},
   "source": [
    "<h2>Apartado 3</h2>\n",
    "\n",
    "<p> Viendo las diferencias existentes entre las distintas clasificaciones del conjunto de datos titanic, podemos apreciar que el aumento sustancial del número de generaciones, ha tenido un impacto directo en la tasa de acierto del algoritmo genético. Esto se debe a que a mayor número de generaciones, más tiempo le damos al algoritmo genético para que genere un individuo apto que sea capaz de clasificar mejor.</p>\n",
    "\n",
    "<p> El número de reglas también es un factor que tiene cierto peso, puesto que a mayor número de reglas mayores posibilidades hay de que un individuo sea capaz de clasificar correctamente, aunque cuando este factor adquiere verdadera importancia, es cuando los conjuntos de datos tienen un mayor número de atributos, puesto que nos permite abarcar un mayor número de combinaciones y nos da más posibilidades de encontrar las reglas óptimas. </p>\n",
    "\n",
    "<p> En cuanto a las tasas de cruce y mutación, no puedo comentar nada en base a los resultados empíricos, puesto que apenas me ha dado tiempo a ejecutar la mitad de las pruebas con los parámetros establecidos para la práctica. </p>"
   ]
  },
  {
   "cell_type": "code",
   "execution_count": null,
   "metadata": {
    "collapsed": true
   },
   "outputs": [],
   "source": []
  }
 ],
 "metadata": {
  "anaconda-cloud": {},
  "kernelspec": {
   "display_name": "Python 3",
   "language": "python",
   "name": "python3"
  },
  "language_info": {
   "codemirror_mode": {
    "name": "ipython",
    "version": 3
   },
   "file_extension": ".py",
   "mimetype": "text/x-python",
   "name": "python",
   "nbconvert_exporter": "python",
   "pygments_lexer": "ipython3",
   "version": "3.5.2"
  }
 },
 "nbformat": 4,
 "nbformat_minor": 1
}
